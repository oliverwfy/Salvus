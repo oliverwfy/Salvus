{
 "cells": [
  {
   "cell_type": "code",
   "execution_count": 1,
   "id": "9f82237b",
   "metadata": {},
   "outputs": [
    {
     "name": "stdout",
     "output_type": "stream",
     "text": [
      "--> Server: 'https://l.mondaic.com/licensing_server', User: 'bristol.support', Group: 'UniversityOfBristol'.\n",
      "--> Negotiating 1 license instance(s) for 'SalvusMesh' [license version 1.0.0] for 1 seconds ...\n",
      "--> Success! [Total duration: 0.43 seconds]\n"
     ]
    },
    {
     "name": "stderr",
     "output_type": "stream",
     "text": [
      "WARNING: CPU random generator seem to be failing, disabling hardware random number generation\n",
      "WARNING: RDRND generated: 0xffffffff 0xffffffff 0xffffffff 0xffffffff\n"
     ]
    }
   ],
   "source": [
    "\n",
    "import numpy as np\n",
    "\n",
    "import salvus.namespace as sn\n",
    "import time\n",
    "\n",
    "from my_code.utilities import *\n",
    "from pathlib import Path\n",
    "import os\n",
    "import salvus.flow.simple_config as sc\n",
    "\n",
    "from material_ela_constants.Elastic_Material import Austenite\n",
    "from salvus.material._details import material as md\n",
    "import xarray as xr\n",
    "\n",
    "from datetime import datetime\n",
    "import cv2\n",
    "from PIL import Image\n",
    "from salvus.toolbox.helpers.wavefield_output import (\n",
    "    WavefieldOutput,\n",
    "    wavefield_output_to_xarray,\n",
    ")\n",
    "\n",
    "\n",
    "\n",
    "import numpy as np\n",
    "\n",
    "import salvus.namespace as sn\n",
    "\n",
    "import salvus.mesh\n",
    "import salvus.mesh.layered_meshing as lm\n",
    "from my_code.utilities import *\n",
    "from pathlib import Path\n",
    "\n",
    "\n",
    "\n",
    "\n",
    "# Directories in WSL\n",
    "PROJECT_DIR = '/home/oliver/workspace/Salvus/elastic_model/anisotropic/Project'\n",
    "IMAGE_DIR = '/home/oliver/workspace/Salvus/elastic_model/anisotropic/image'\n",
    "DATA_DIR = '/home/oliver/workspace/Salvus/elastic_model/anisotropic/data'\n",
    "\n",
    "\n",
    "# Directories in Windows\n",
    "PROJECT_DIR_WIN = '/mnt/d/Salvus_project/elastic_model/anisotropic/Project'\n",
    "DATA_DIR_WIN = '/mnt/d/Salvus_project/elastic_model/anisotropic/data'\n",
    "IMAGE_DIR_WIN = '/mnt/d/Salvus_project/elastic_model/anisotropic/image'\n",
    "\n",
    "\n",
    "# create dir if it does not exist\n",
    "Path(IMAGE_DIR).mkdir(parents=True, exist_ok=True)\n",
    "Path(DATA_DIR).mkdir(parents=True, exist_ok=True)\n",
    "Path(IMAGE_DIR_WIN).mkdir(parents=True, exist_ok=True)\n",
    "Path(DATA_DIR_WIN).mkdir(parents=True, exist_ok=True)\n",
    "\n",
    "\n",
    "\n",
    "\n",
    "# Salvus site name\n",
    "SALVUS_FLOW_SITE_NAME = 'oliver_wsl'\n",
    "RANKS_PER_JOB = 8\n",
    "\n",
    "# 1 MHz should run on laptops, 4 MHz and higher we recommend GPUs\n",
    "CENTRAL_FREQUENCY = 1e6  # MHz\n",
    "\n",
    "assert CENTRAL_FREQUENCY >= 1e6"
   ]
  },
  {
   "cell_type": "code",
   "execution_count": 2,
   "id": "0e370093",
   "metadata": {},
   "outputs": [
    {
     "data": {
      "application/vnd.jupyter.widget-view+json": {
       "model_id": "2921b4e778b2433293b6d4770dc5260a",
       "version_major": 2,
       "version_minor": 0
      },
      "text/plain": [
       "Accordion(children=(HTML(value='\\n                <head>\\n                <style>\\n                td {\\n     …"
      ]
     },
     "metadata": {},
     "output_type": "display_data"
    },
    {
     "name": "stdout",
     "output_type": "stream",
     "text": [
      "[2025-10-08 21:38:52,754] \u001b[34m\u001b[1mINFO\u001b[0m: Loading project from /mnt/d/Salvus_project/elastic_model/anisotropic/Project/gradient.\n"
     ]
    }
   ],
   "source": [
    "PROJECT_NAME = 'gradient'\n",
    "\n",
    "\n",
    "# salvus site \n",
    "SITE_NAME = \"oliver_wsl\"\n",
    "RANKS = 8\n",
    "\n",
    "# number of grains\n",
    "N_GRAIN = 5\n",
    "\n",
    "# center frequency \n",
    "CENTRAL_FREQUENCY = 1e6  # MHz\n",
    "# CENTRAL_FREQUENCY = 3e6  # MHz\n",
    "\n",
    "\n",
    "roi_radius = 9e-3\n",
    "\n",
    "n_txs = 32\n",
    "\n",
    "\n",
    "VP = 5000.0\n",
    "VS = 3000.0\n",
    "RHO = 2600.0\n",
    "\n",
    "\n",
    "x0, x1 = 0.0, 0.01\n",
    "y0, y1 = 0.0, 0.01\n",
    "\n",
    "time_ratio = 3\n",
    "end_time = 1e-6 * time_ratio\n",
    "\n",
    "domain = sn.domain.dim2.BoxDomain(x0=x0, x1=x1, y0=y0, y1=y1)\n",
    "\n",
    "p = sn.Project.from_domain(\n",
    "    path=Path(PROJECT_DIR_WIN, PROJECT_NAME), domain=domain, load_if_exists=True\n",
    ")\n",
    "\n",
    "# acoustic material\n",
    "homogeneous_model = lm.LayeredModel(\n",
    "    [\n",
    "        sn.material.elastic.Velocity.from_params(rho=RHO, vp=VP, vs=VS),\n",
    "    ] \n",
    ")\n",
    "\n",
    "\n",
    "homogeneous_model_ab = sn.layered_meshing.MeshingProtocol(\n",
    "    homogeneous_model,\n",
    "    ab=salvus.mesh.simple_mesh.basic_mesh.AbsorbingBoundaryParameters(\n",
    "        free_surface=False,\n",
    "        number_of_wavelengths=1.5,\n",
    "        reference_velocity=5000,\n",
    "        reference_frequency=CENTRAL_FREQUENCY * 2,\n",
    "    ),\n",
    ")\n",
    "\n",
    "mesh_homogeneous = lm.mesh_from_domain(\n",
    "    domain=domain,\n",
    "    model=homogeneous_model_ab,\n",
    "    mesh_resolution=sn.MeshResolution(\n",
    "        reference_frequency=CENTRAL_FREQUENCY * 2, elements_per_wavelength=3, model_order=4\n",
    "    ),\n",
    ")\n"
   ]
  },
  {
   "cell_type": "code",
   "execution_count": 3,
   "id": "d100b309",
   "metadata": {},
   "outputs": [
    {
     "name": "stdout",
     "output_type": "stream",
     "text": [
      "[2025-10-08 21:38:56,449] \u001b[34m\u001b[1mINFO\u001b[0m: Deleting existing `mesh_homogeneous` entity of type `simulation_configuration` ...\n"
     ]
    }
   ],
   "source": [
    "\n",
    "mag_ratio = 1e14\n",
    "\n",
    "src = sn.simple_config.source.cartesian.VectorPoint2D(\n",
    "        x=5e-3, y=9e-3, \n",
    "        fx=0, fy=1 * mag_ratio\n",
    "        ) \n",
    "\n",
    "fileds = ['displacement']\n",
    "\n",
    "rx_pos = [(1e-3, 1e-3), (3e-3, 1e-3), (5e-3, 1e-3),(7e-3, 1e-3),(9e-3, 1e-3)]\n",
    "# rx_pos = [(0.01, 0.01), (0, 0)]\n",
    "\n",
    "recs = [sn.simple_config.receiver.cartesian.Point2D(\n",
    "        x=rx[0], y=rx[1], \n",
    "        fields=fileds, station_code=f\"{_i:06d}\",\n",
    "        ) for _i, rx in enumerate(rx_pos)]\n",
    "\n",
    "for e in p.events.list():\n",
    "    p.events.delete(e)\n",
    "    \n",
    "p.add_to_project(\n",
    "sn.EventCollection.from_sources(\n",
    "        sources=src, receivers=recs, event_name_starting_index=0),\n",
    "        )\n",
    "\n",
    "\n",
    "center_frequency = CENTRAL_FREQUENCY\n",
    "sampling_rate_in_hertz = center_frequency*100\n",
    "\n",
    "\n",
    "end_time = 4e-6\n",
    "wsc = sn.WaveformSimulationConfiguration(start_time_in_seconds=0, end_time_in_seconds=end_time, time_step_in_seconds=1/sampling_rate_in_hertz)\n",
    "\n",
    "\n",
    "\n",
    "ec = sn.EventConfiguration(\n",
    "    waveform_simulation_configuration=wsc,\n",
    "    wavelet=sn.simple_config.stf.Ricker(center_frequency=center_frequency,time_shift_in_seconds=1e-6),\n",
    ")\n",
    "\n",
    "\n",
    "\n",
    "sim_config = sn.UnstructuredMeshSimulationConfiguration(\n",
    "    unstructured_mesh=mesh_homogeneous,\n",
    "    name=\"mesh_homogeneous\",\n",
    "    # Event specific configuration.\n",
    "    event_configuration=ec,\n",
    ")\n",
    "\n",
    "\n",
    "\n",
    "# add simulation configuration to Project\n",
    "p.add_to_project(\n",
    "    sim_config, overwrite=True\n",
    "    )\n",
    "\n",
    "\n"
   ]
  },
  {
   "cell_type": "code",
   "execution_count": 631,
   "id": "a2e69f6e",
   "metadata": {},
   "outputs": [
    {
     "data": {
      "application/vnd.jupyter.widget-view+json": {
       "model_id": "7d0f73448ed74ce2a4facbb2ecd28172",
       "version_major": 2,
       "version_minor": 0
      },
      "text/plain": [
       "VBox(children=(HTML(value='\\n            <p><i>This is only a preview. Use ParaView to actually investigate\\n …"
      ]
     },
     "metadata": {},
     "output_type": "display_data"
    },
    {
     "data": {
      "text/plain": [
       "<salvus.flow.simple_config.simulation.waveform.Waveform object at 0x732a8b1f7ad0>"
      ]
     },
     "execution_count": 631,
     "metadata": {},
     "output_type": "execute_result"
    }
   ],
   "source": [
    "p.viz.nb.simulation_setup(\n",
    "    simulation_configuration=\"mesh_homogeneous\", events=p.events.list()[0]\n",
    ")\n",
    "\n"
   ]
  },
  {
   "cell_type": "code",
   "execution_count": 4,
   "id": "2123cee0",
   "metadata": {},
   "outputs": [
    {
     "name": "stdout",
     "output_type": "stream",
     "text": [
      "[2025-10-08 21:39:05,699] \u001b[34m\u001b[1mINFO\u001b[0m: Deleting existing `mesh_heterogeneous` entity of type `simulation_configuration` ...\n"
     ]
    },
    {
     "data": {
      "application/vnd.jupyter.widget-view+json": {
       "model_id": "ec80a603e98141c88f70d4da54fcd38e",
       "version_major": 2,
       "version_minor": 0
      },
      "text/plain": [
       "VBox(children=(HTML(value='\\n            <p><i>This is only a preview. Use ParaView to actually investigate\\n …"
      ]
     },
     "metadata": {},
     "output_type": "display_data"
    },
    {
     "data": {
      "text/plain": [
       "<salvus.flow.simple_config.simulation.waveform.Waveform object at 0x71c714f73010>"
      ]
     },
     "execution_count": 4,
     "metadata": {},
     "output_type": "execute_result"
    }
   ],
   "source": [
    "# Make a copy to add a layer in between\n",
    "mesh_homogeneous_scatterers = mesh_homogeneous.copy()\n",
    "centroids = mesh_homogeneous_scatterers.get_element_centroid()\n",
    "\n",
    "center = (x1/2, y1/2)\n",
    "\n",
    "# defect_mask = np.linalg.norm(centroids - center, axis=1) < 1e-3\n",
    "defect_mask_x = (centroids[:,0]<= 9e-3) & (centroids[:,0]>= 1e-3)\n",
    "defect_mask_y = (centroids[:,1]<= 6e-3) & (centroids[:,1]>= 4e-3)\n",
    "\n",
    "defect_mask = defect_mask_x & defect_mask_y\n",
    "mesh_homogeneous_scatterers.elemental_fields[\"RHO\"] -= (\n",
    "    defect_mask[:, None] * 0\n",
    ")\n",
    "mesh_homogeneous_scatterers.elemental_fields[\"VP\"] -= (  \n",
    "    defect_mask[:, None] * 1000\n",
    ")\n",
    "\n",
    "# mesh_homogeneous_scatterers.elemental_fields[\"VS\"] += (  \n",
    "#     defect_mask[:, None] * 1000\n",
    "# )\n",
    "\n",
    "\n",
    "sim_config = sn.UnstructuredMeshSimulationConfiguration(\n",
    "    unstructured_mesh=mesh_homogeneous_scatterers,\n",
    "    name=\"mesh_heterogeneous\",\n",
    "    # Event specific configuration.\n",
    "    event_configuration=ec,\n",
    ")\n",
    "\n",
    "# add simulation configuration to Project\n",
    "p.add_to_project(\n",
    "    sim_config, overwrite=True\n",
    "    )\n",
    "\n",
    "\n",
    "\n",
    "p.viz.nb.simulation_setup(\n",
    "    simulation_configuration='mesh_heterogeneous',\n",
    "    events=p.events.list()[0],\n",
    ")\n",
    "\n",
    "\n"
   ]
  },
  {
   "cell_type": "code",
   "execution_count": 5,
   "id": "1f44d371",
   "metadata": {},
   "outputs": [
    {
     "name": "stdout",
     "output_type": "stream",
     "text": [
      "[2025-10-08 21:39:25,253] \u001b[34m\u001b[1mINFO\u001b[0m: Deleting existing `initial_model` entity of type `simulation_configuration` ...\n"
     ]
    },
    {
     "data": {
      "application/vnd.jupyter.widget-view+json": {
       "model_id": "5026f1ac69fd4a2189f8f4477dedb3d1",
       "version_major": 2,
       "version_minor": 0
      },
      "text/plain": [
       "VBox(children=(HTML(value='\\n            <p><i>This is only a preview. Use ParaView to actually investigate\\n …"
      ]
     },
     "metadata": {},
     "output_type": "display_data"
    },
    {
     "data": {
      "text/plain": [
       "<salvus.flow.simple_config.simulation.waveform.Waveform object at 0x71c714f77310>"
      ]
     },
     "execution_count": 5,
     "metadata": {},
     "output_type": "execute_result"
    }
   ],
   "source": [
    "# Make a copy to add a layer in between\n",
    "mesh_homogeneous_scatterers = mesh_homogeneous.copy()\n",
    "centroids = mesh_homogeneous_scatterers.get_element_centroid()\n",
    "\n",
    "center = (x1/2, y1/2)\n",
    "\n",
    "# defect_mask = np.linalg.norm(centroids - center, axis=1) < 1e-3\n",
    "defect_mask_x = (centroids[:,0]<= 9e-3) & (centroids[:,0]>= 1e-3)\n",
    "defect_mask_y = (centroids[:,1]<= 6e-3) & (centroids[:,1]>= 4e-3)\n",
    "\n",
    "defect_mask = defect_mask_x & defect_mask_y\n",
    "mesh_homogeneous_scatterers.elemental_fields[\"RHO\"] -= (\n",
    "    defect_mask[:, None] * 0\n",
    ")\n",
    "mesh_homogeneous_scatterers.elemental_fields[\"VP\"] -= (  \n",
    "    defect_mask[:, None] * 2000\n",
    ")\n",
    "\n",
    "# mesh_homogeneous_scatterers.elemental_fields[\"VS\"] += (  \n",
    "#     defect_mask[:, None] * 1000\n",
    "# )\n",
    "\n",
    "\n",
    "sim_config = sn.UnstructuredMeshSimulationConfiguration(\n",
    "    unstructured_mesh=mesh_homogeneous_scatterers,\n",
    "    name=\"initial_model\",\n",
    "    # Event specific configuration.\n",
    "    event_configuration=ec,\n",
    ")\n",
    "\n",
    "# add simulation configuration to Project\n",
    "p.add_to_project(\n",
    "    sim_config, overwrite=True\n",
    "    )\n",
    "\n",
    "\n",
    "\n",
    "p.viz.nb.simulation_setup(\n",
    "    simulation_configuration='initial_model',\n",
    "    events=p.events.list()[0],\n",
    ")\n",
    "\n",
    "\n"
   ]
  },
  {
   "cell_type": "code",
   "execution_count": 634,
   "id": "e505538b",
   "metadata": {},
   "outputs": [],
   "source": [
    "# srcs = sn.simple_config.source.cartesian.collections.ScalarPoint2DRing(\n",
    "#     x=0, y=0, radius=0.09, count=1, f=1.0\n",
    "# )\n",
    "\n",
    "# for e in p.events.list():\n",
    "#     p.events.delete(e)\n",
    "    \n",
    "    \n",
    "# for _i, s in enumerate(srcs._sources):\n",
    "#     all_recs = sn.simple_config.receiver.cartesian.collections.RingPoint2D(\n",
    "#         x=0, y=0, radius=0.09, count=1, fields=[\"phi\"]\n",
    "#     )\n",
    "#     recs = [\n",
    "#         r\n",
    "#         for r in all_recs._receivers\n",
    "#         if np.sqrt(\n",
    "#             (s.location[0] - r.location[0]) ** 2\n",
    "#             + (s.location[1] - r.location[1]) ** 2\n",
    "#         )\n",
    "#         > 0.03\n",
    "#     ]\n",
    "#     p.add_to_project(\n",
    "#         sn.EventCollection.from_sources(\n",
    "#             sources=[s], receivers=recs, event_name_starting_index=_i\n",
    "#         )\n",
    "#     )\n",
    "    \n",
    "    \n",
    "    \n",
    "# wsc = sn.WaveformSimulationConfiguration(end_time_in_seconds=0.00015)"
   ]
  },
  {
   "cell_type": "code",
   "execution_count": 635,
   "id": "7b586927",
   "metadata": {},
   "outputs": [],
   "source": [
    "# center_frequency = 5e4\n",
    "\n",
    "# ec = sn.EventConfiguration(\n",
    "#     waveform_simulation_configuration=wsc,\n",
    "#     wavelet=sn.simple_config.stf.Ricker(center_frequency=center_frequency),\n",
    "# )\n",
    "\n",
    "# p.add_to_project(\n",
    "#     sn.SimulationConfiguration(\n",
    "#         name=\"true_model_100kHz\",\n",
    "#         #\n",
    "#         # Settings that influence the mesh.\n",
    "#         elements_per_wavelength=2,\n",
    "#         tensor_order=4,\n",
    "#         max_frequency_in_hertz=center_frequency*2,\n",
    "#         #\n",
    "#         model_configuration=sn.ModelConfiguration(\n",
    "#             background_model=None, volume_models=\"true_model\"\n",
    "#         ),\n",
    "#         # Potentially event dependent settings.\n",
    "#         event_configuration=ec,\n",
    "#     )\n",
    "# )\n",
    "\n",
    "\n",
    "# p.viz.nb.simulation_setup(\n",
    "#     simulation_configuration=\"true_model_100kHz\", events=p.events.list()[0]\n",
    "# )\n",
    "\n"
   ]
  },
  {
   "cell_type": "code",
   "execution_count": 7,
   "id": "96878e78",
   "metadata": {},
   "outputs": [
    {
     "name": "stdout",
     "output_type": "stream",
     "text": [
      "[2025-10-08 21:40:36,678] \u001b[34m\u001b[1mINFO\u001b[0m: Submitting job ...\n",
      "Uploading 1 files...\n",
      "\n",
      "🚀  Submitted job_2510082140875404_bc30dbf650\u001b[0m@\u001b[34moliver_wsl\u001b[0m\n"
     ]
    },
    {
     "data": {
      "application/vnd.jupyter.widget-view+json": {
       "model_id": "944b53d976a54fc095dd981daa240838",
       "version_major": 2,
       "version_minor": 0
      },
      "text/plain": [
       "VBox()"
      ]
     },
     "metadata": {},
     "output_type": "display_data"
    },
    {
     "data": {
      "text/plain": [
       "True"
      ]
     },
     "execution_count": 7,
     "metadata": {},
     "output_type": "execute_result"
    }
   ],
   "source": [
    "p.simulations.launch(\n",
    "    simulation_configuration=\"mesh_heterogeneous\",\n",
    "    events=p.events.list()[0],\n",
    "    site_name=SALVUS_FLOW_SITE_NAME,\n",
    "    ranks_per_job=8,\n",
    ")\n",
    "p.simulations.query(block=True)\n"
   ]
  },
  {
   "cell_type": "code",
   "execution_count": 9,
   "id": "abc88565",
   "metadata": {},
   "outputs": [
    {
     "name": "stdout",
     "output_type": "stream",
     "text": [
      "[2025-10-08 21:40:55,707] \u001b[34m\u001b[1mINFO\u001b[0m: The same misfit_configuration with name `L2` exists already in the project. Nothing will be done.\n",
      "[2025-10-08 21:40:55,911] \u001b[34m\u001b[1mINFO\u001b[0m: Submitting job ...\n",
      "[2025-10-08 21:40:56,111] \u001b[34m\u001b[1mINFO\u001b[0m: Launched simulations for 1 events. Please check again to see if they are finished.\n"
     ]
    }
   ],
   "source": [
    "import time\n",
    "\n",
    "p.add_to_project(\n",
    "    sn.MisfitConfiguration(\n",
    "        name=\"L2\",\n",
    "        observed_data=\"mesh_heterogeneous\",\n",
    "        misfit_function=\"L2\",\n",
    "        receiver_field=fileds[0],\n",
    "    )\n",
    ")\n",
    "\n",
    "\n",
    "while not p.actions.inversion.compute_misfits(\n",
    "    simulation_configuration=\"initial_model\", \n",
    "    misfit_configuration=\"L2\", \n",
    "    events=p.events.list()[0],\n",
    "    site_name=SALVUS_FLOW_SITE_NAME,\n",
    "    ranks_per_job = 4\n",
    "): time.sleep(10.0)\n",
    "\n"
   ]
  },
  {
   "cell_type": "code",
   "execution_count": 123,
   "id": "980c9008",
   "metadata": {},
   "outputs": [
    {
     "name": "stdout",
     "output_type": "stream",
     "text": [
      "[2025-10-07 22:11:16,296] \u001b[34m\u001b[1mINFO\u001b[0m: The following events have been simulated before, but checkpoints are not available for this combination of `site_name` and `ranks_per_job` and wavefield compression settings. They will be run again: ['event_0000']\n",
      "[2025-10-07 22:11:16,424] \u001b[34m\u001b[1mINFO\u001b[0m: Submitting job ...\n",
      "[2025-10-07 22:11:16,647] \u001b[34m\u001b[1mINFO\u001b[0m: Launched simulations for 1 events. Please check again to see if they are finished.\n",
      "[2025-10-07 22:11:26,659] \u001b[34m\u001b[1mINFO\u001b[0m: Submitting job ...\n",
      "[2025-10-07 22:11:26,786] \u001b[34m\u001b[1mINFO\u001b[0m: Launched adjoint simulations for 1 events. Please check again to see if they are finished.\n"
     ]
    },
    {
     "data": {
      "application/vnd.jupyter.widget-view+json": {
       "model_id": "fe2acc768b714452a4b35b848fc09e1f",
       "version_major": 2,
       "version_minor": 0
      },
      "text/plain": [
       "VBox(children=(HBox(children=(Dropdown(description='Event:', options=('event_0000',), value='event_0000'),)), …"
      ]
     },
     "metadata": {},
     "output_type": "display_data"
    }
   ],
   "source": [
    "while not p.actions.inversion.compute_gradients(\n",
    "    simulation_configuration=\"initial_model\",\n",
    "    misfit_configuration=\"L2\",\n",
    "    wavefield_compression=sn.WavefieldCompression(\n",
    "        forward_wavefield_sampling_interval=10\n",
    "    ),\n",
    "    events=p.events.list()[0],\n",
    "    site_name=SALVUS_FLOW_SITE_NAME,\n",
    "    ranks_per_job=4,\n",
    "): time.sleep(10.0)\n",
    "\n",
    "\n",
    "\n",
    "p.viz.nb.gradients(\n",
    "    simulation_configuration=\"initial_model\",\n",
    "    misfit_configuration=\"L2\",\n",
    "    wavefield_compression=sn.WavefieldCompression(\n",
    "        forward_wavefield_sampling_interval=10\n",
    "    ),\n",
    "    events=p.events.list()[0],\n",
    ")"
   ]
  },
  {
   "cell_type": "code",
   "execution_count": 10,
   "id": "6a7f2391",
   "metadata": {},
   "outputs": [],
   "source": [
    "sampling_rate_in_hertz = CENTRAL_FREQUENCY*100\n",
    "\n",
    "ed = p.waveforms.get(data_name=\"mesh_heterogeneous\", events=p.events.list()[0])[0]\n",
    "data_true = ed.get_waveform_data_xarray(receiver_field='displacement')\n",
    "time = data_true.time\n",
    "ed = p.waveforms.get(data_name=\"initial_model\", events=p.events.list()[0])[0]\n",
    "data_init = ed.get_waveform_data_xarray(receiver_field='displacement')\n",
    "time = data_init.time\n"
   ]
  },
  {
   "cell_type": "code",
   "execution_count": 11,
   "id": "9ee0b287",
   "metadata": {},
   "outputs": [
    {
     "data": {
      "image/png": "[encoded data removed]",
      "text/plain": [
       "<Figure size 2000x600 with 3 Axes>"
      ]
     },
     "metadata": {},
     "output_type": "display_data"
    }
   ],
   "source": [
    "id = 6\n",
    "f_adj_0 =  (data_true[id] - data_init[id]) /data_true.max()\n",
    "\n",
    "fig, axs = plt.subplots(1, 3, figsize=(20, 6), dpi=100)\n",
    "\n",
    "\n",
    "axs[0].plot(time*1e6, data_true[id]/data_true.max())\n",
    "axs[0].plot(time*1e6, data_init[id]/data_true.max())\n",
    "axs[0].legend([r'$u_{obs}$', 'u'])\n",
    "axs[0].set_xlabel('time (us)')\n",
    "axs[0].set_ylabel(r'displacement $u_2$')\n",
    "axs[0].set_title('observed and synthetic data')\n",
    "\n",
    "\n",
    "axs[1].plot(time*1e6, f_adj_0, color='gray',linestyle='--')\n",
    "axs[1].set_xlabel('time (us)')\n",
    "axs[1].set_ylabel(r'displacement $u_2$')\n",
    "axs[1].set_title('residuals')\n",
    "\n",
    "\n",
    "axs[2].plot(time*1e6, -np.flip(f_adj_0), color='gray',linestyle='--')\n",
    "axs[2].set_xlabel('time (us)')\n",
    "axs[2].set_ylabel(r'displacement $u_2$')\n",
    "axs[2].set_title('time-reversed residuals')\n",
    "\n",
    "plt.savefig(Path(IMAGE_DIR_WIN, PROJECT_NAME + fr'_adjoint_source.png'))\n"
   ]
  },
  {
   "cell_type": "code",
   "execution_count": 124,
   "id": "049649ed",
   "metadata": {},
   "outputs": [
    {
     "name": "stdout",
     "output_type": "stream",
     "text": [
      "[2025-10-07 22:13:06,842] \u001b[34m\u001b[1mINFO\u001b[0m: delete_conflicting_previous_results is set to True. Deleting results for simulation configuration initial_model and event event_0000.\n",
      "[2025-10-07 22:13:06,983] \u001b[34m\u001b[1mINFO\u001b[0m: Removing contents of `/mnt/d/Salvus_project/elastic_model/anisotropic/Project/gradient/EVENTS/event_0000/WAVEFORM_DATA/INTERNAL/72/7b/006434491a48`.\n",
      "[2025-10-07 22:13:07,184] \u001b[34m\u001b[1mINFO\u001b[0m: Submitting job ...\n",
      "Uploading 1 files...\n",
      "\n",
      "🚀  Submitted job_2510072213285439_2ca0314ec8\u001b[0m@\u001b[34moliver_wsl\u001b[0m\n"
     ]
    },
    {
     "data": {
      "application/vnd.jupyter.widget-view+json": {
       "model_id": "9fba470be93f4ac18b0cb475b0bee861",
       "version_major": 2,
       "version_minor": 0
      },
      "text/plain": [
       "VBox()"
      ]
     },
     "metadata": {},
     "output_type": "display_data"
    },
    {
     "data": {
      "text/plain": [
       "True"
      ]
     },
     "execution_count": 124,
     "metadata": {},
     "output_type": "execute_result"
    }
   ],
   "source": [
    "fileds = [\"strain\"]\n",
    "\n",
    "# simulation with volume data (full wavefield)\n",
    "p.simulations.launch(\n",
    "    ranks_per_job=4,\n",
    "    site_name=SALVUS_FLOW_SITE_NAME,\n",
    "    events=p.events.list()[0],\n",
    "    simulation_configuration=\"initial_model\",\n",
    "    extra_output_configuration={\n",
    "        \"volume_data\": {\n",
    "            \"sampling_interval_in_time_steps\": 10,\n",
    "            \"fields\": fileds,\n",
    "        },\n",
    "    },\n",
    "    # We have previously simulated the same event but without\n",
    "    # extra output. We have to thus overwrite the existing\n",
    "    # simulation.\n",
    "    delete_conflicting_previous_results=True,\n",
    ")\n",
    "\n",
    "p.simulations.query(block=True)\n"
   ]
  },
  {
   "cell_type": "code",
   "execution_count": null,
   "id": "7ff49e01",
   "metadata": {},
   "outputs": [],
   "source": [
    "strain_field  = ed.get_wavefield_output(output_type='volume', field='strain').data\n"
   ]
  },
  {
   "cell_type": "code",
   "execution_count": 128,
   "id": "101b40cb",
   "metadata": {},
   "outputs": [
    {
     "data": {
      "text/plain": [
       "(41, 1295, 3, 25)"
      ]
     },
     "execution_count": 128,
     "metadata": {},
     "output_type": "execute_result"
    }
   ],
   "source": [
    "strain_field.shape"
   ]
  },
  {
   "cell_type": "code",
   "execution_count": null,
   "id": "152deae8",
   "metadata": {},
   "outputs": [
    {
     "data": {
      "text/plain": [
       "(1295, 25, 2, 2)"
      ]
     },
     "execution_count": 135,
     "metadata": {},
     "output_type": "execute_result"
    }
   ],
   "source": [
    "mesh_homogeneous.jacobian_at_nodes()"
   ]
  },
  {
   "cell_type": "code",
   "execution_count": null,
   "id": "a961c4eb",
   "metadata": {},
   "outputs": [],
   "source": [
    "strain_t0 = strain_field[0,:,:,:]\n"
   ]
  },
  {
   "cell_type": "code",
   "execution_count": 105,
   "id": "3298c119",
   "metadata": {},
   "outputs": [
    {
     "data": {
      "application/vnd.jupyter.widget-view+json": {
       "model_id": "7c746cdfa95a4361b83f1f14cfd57328",
       "version_major": 2,
       "version_minor": 0
      },
      "text/plain": [
       "Finding enclosing elements (pass 1 of auto):   0%|          | 0/21009 [00:00<?, ?it/s]"
      ]
     },
     "metadata": {},
     "output_type": "display_data"
    },
    {
     "data": {
      "application/vnd.jupyter.widget-view+json": {
       "model_id": "498d281c8e3f42d0b1fa4384376cc225",
       "version_major": 2,
       "version_minor": 0
      },
      "text/plain": [
       "Extracting wavefield to regular grid:   0%|          | 0/8 [00:00<?, ?it/s]"
      ]
     },
     "metadata": {},
     "output_type": "display_data"
    }
   ],
   "source": [
    "ed = p.waveforms.get(data_name=\"initial_model\", events=p.events.list()[0])[0]\n",
    "\n",
    "mesh = p.simulations.get_mesh(\"initial_model\")\n",
    "strain_field  = wavefield_output_to_xarray(\n",
    "    ed.get_wavefield_output(output_type='volume', field='strain'), \n",
    "    mesh.points).T.values\n"
   ]
  },
  {
   "cell_type": "code",
   "execution_count": 75,
   "id": "d816f341",
   "metadata": {},
   "outputs": [],
   "source": [
    "# Make a copy to add a layer in between\n",
    "mesh_homogeneous_scatterers = mesh_homogeneous.copy()\n",
    "centroids = mesh_homogeneous_scatterers.get_element_centroid()\n",
    "\n",
    "center = (x1/2, y1/2)\n",
    "\n",
    "# defect_mask = np.linalg.norm(centroids - center, axis=1) < 1e-3\n",
    "defect_mask_x = (centroids[:,0]<= 9e-3) & (centroids[:,0]>= 1e-3)\n",
    "defect_mask_y = (centroids[:,1]<= 6e-3) & (centroids[:,1]>= 4e-3)\n",
    "\n",
    "defect_mask = defect_mask_x & defect_mask_y\n",
    "mesh_homogeneous_scatterers.elemental_fields[\"RHO\"] -= (\n",
    "    defect_mask[:, None] * 0\n",
    ")\n",
    "mesh_homogeneous_scatterers.elemental_fields[\"VP\"] -= (  \n",
    "    defect_mask[:, None] * 1000\n",
    ")\n",
    "\n",
    "# mesh_homogeneous_scatterers.elemental_fields[\"VS\"] += (  \n",
    "#     defect_mask[:, None] * 1000\n",
    "# )\n"
   ]
  },
  {
   "cell_type": "code",
   "execution_count": 65,
   "id": "a04bef49",
   "metadata": {},
   "outputs": [],
   "source": [
    "# Make a copy to add a layer in between\n",
    "mesh_homogeneous_scatterers = mesh_homogeneous.copy()\n",
    "centroids = mesh_homogeneous_scatterers.get_element_centroid()\n",
    "\n",
    "center = (x1/2, y1/2)\n",
    "\n",
    "# defect_mask = np.linalg.norm(centroids - center, axis=1) < 1e-3\n",
    "defect_mask_x = (centroids[:,0]<= 9e-3) & (centroids[:,0]>= 1e-3)\n",
    "defect_mask_y = (centroids[:,1]<= 6e-3) & (centroids[:,1]>= 4e-3)\n",
    "\n",
    "defect_mask = defect_mask_x & defect_mask_y"
   ]
  },
  {
   "cell_type": "code",
   "execution_count": 77,
   "id": "9a83ee97",
   "metadata": {},
   "outputs": [
    {
     "data": {
      "text/plain": [
       "(1295,)"
      ]
     },
     "execution_count": 77,
     "metadata": {},
     "output_type": "execute_result"
    }
   ],
   "source": [
    "defect_mask.shape"
   ]
  },
  {
   "cell_type": "code",
   "execution_count": 58,
   "id": "99775758",
   "metadata": {},
   "outputs": [],
   "source": [
    "mesh = mesh_homogeneous.copy()\n"
   ]
  },
  {
   "cell_type": "code",
   "execution_count": 63,
   "id": "d6c7db8e",
   "metadata": {},
   "outputs": [
    {
     "data": {
      "text/plain": [
       "(1295, 25)"
      ]
     },
     "execution_count": 63,
     "metadata": {},
     "output_type": "execute_result"
    }
   ],
   "source": [
    "mesh.elemental_fields['VP'].shape"
   ]
  },
  {
   "cell_type": "code",
   "execution_count": null,
   "id": "8054b57d",
   "metadata": {},
   "outputs": [
    {
     "name": "stdout",
     "output_type": "stream",
     "text": [
      "[2025-10-07 22:07:11,735] \u001b[34m\u001b[1mINFO\u001b[0m: Data for 1 event(s) already exists. They will not be submitted again. The requested extra_output_configuration is fully contained in the existing results. If you really want to rerun the simulations, please delete the results first using p.simulations.delete_results().\n"
     ]
    },
    {
     "data": {
      "application/vnd.jupyter.widget-view+json": {
       "model_id": "0ef3de24c4934b41bc064570ee89ed62",
       "version_major": 2,
       "version_minor": 0
      },
      "text/plain": [
       "VBox()"
      ]
     },
     "metadata": {},
     "output_type": "display_data"
    },
    {
     "data": {
      "application/vnd.jupyter.widget-view+json": {
       "model_id": "3fbaac276ebd4d63a68bec014f1f43eb",
       "version_major": 2,
       "version_minor": 0
      },
      "text/plain": [
       "Finding enclosing elements (pass 1 of auto):   0%|          | 0/21009 [00:00<?, ?it/s]"
      ]
     },
     "metadata": {},
     "output_type": "display_data"
    },
    {
     "data": {
      "application/vnd.jupyter.widget-view+json": {
       "model_id": "fb2c139c3d5147aab6b0003fa4f60889",
       "version_major": 2,
       "version_minor": 0
      },
      "text/plain": [
       "Extracting wavefield to regular grid:   0%|          | 0/8 [00:00<?, ?it/s]"
      ]
     },
     "metadata": {},
     "output_type": "display_data"
    },
    {
     "name": "stdout",
     "output_type": "stream",
     "text": [
      "[2025-10-07 22:07:13,267] \u001b[34m\u001b[1mINFO\u001b[0m: Submitting job ...\n",
      "Uploading 6 files...\n",
      "\n",
      "🚀  Submitted job_2510072207491963_3f145b580e\u001b[0m@\u001b[34moliver_wsl\u001b[0m\n"
     ]
    },
    {
     "data": {
      "application/vnd.jupyter.widget-view+json": {
       "model_id": "6c2d52f53898457ab0f0b9e4bccaa41b",
       "version_major": 2,
       "version_minor": 0
      },
      "text/plain": [
       "VBox()"
      ]
     },
     "metadata": {},
     "output_type": "display_data"
    },
    {
     "data": {
      "application/vnd.jupyter.widget-view+json": {
       "model_id": "0d4fa54bf27d4b5fbde1cff11ec56c17",
       "version_major": 2,
       "version_minor": 0
      },
      "text/plain": [
       "Finding enclosing elements (pass 1 of auto):   0%|          | 0/21009 [00:00<?, ?it/s]"
      ]
     },
     "metadata": {},
     "output_type": "display_data"
    },
    {
     "data": {
      "application/vnd.jupyter.widget-view+json": {
       "model_id": "fa8de76017e54e5a95471e276fbcff63",
       "version_major": 2,
       "version_minor": 0
      },
      "text/plain": [
       "Extracting wavefield to regular grid:   0%|          | 0/7 [00:00<?, ?it/s]"
      ]
     },
     "metadata": {},
     "output_type": "display_data"
    },
    {
     "data": {
      "text/plain": [
       "array(0.00652498)"
      ]
     },
     "execution_count": 106,
     "metadata": {},
     "output_type": "execute_result"
    }
   ],
   "source": [
    "def generate_mesh_from_model_m(m, mesh):\n",
    "    mesh = mesh.copy()\n",
    "    mesh.elemental_fields[\"VP\"] -= m\n",
    "    \n",
    "    return mesh\n",
    "\n",
    "\n",
    "\n",
    "def cal_mistf_adjoint_source(u_obs, u):\n",
    "    sampling_rate = u_obs.sampling_rate_in_hertz\n",
    "    diff = u_obs - u\n",
    "    mistif = 1/2 * 1/sampling_rate * (diff**2).sum() \n",
    "    adjoint_src = -np.flip(diff, axis=1)\n",
    "    return mistif.values, {'X':adjoint_src.sel(component='X'), 'Y':adjoint_src.sel(component='Y')}\n",
    "    \n",
    "\n",
    "def generate_adjoint_source(event, sampling_rate_in_hertz, iteration=0):\n",
    "    rec_loc, src_loc = p.events.get(event).receivers, p.events.get(event).sources\n",
    "    src_adj_loc = [r.location for r in rec_loc]\n",
    "    rxs_adj_loc = [t.location for t in src_loc]\n",
    "\n",
    "    stf_ls = [sc.stf.Custom.from_array(\n",
    "        np.array([stf_adj['X'][i], stf_adj['Y'][i]]),\n",
    "        sampling_rate_in_hertz=sampling_rate_in_hertz,\n",
    "        start_time_in_seconds=0.0,\n",
    "    ) for i in range(len(src_adj_loc))]\n",
    "\n",
    "    srcs = [sn.simple_config.source.cartesian.VectorPoint2D(\n",
    "        x= t[0], y= t[1],\n",
    "        fx=1, fy=1,\n",
    "    ) for t in src_adj_loc]\n",
    "\n",
    "    recs = [sn.simple_config.receiver.cartesian.Point2D(\n",
    "            x=rx[0], y=rx[1], \n",
    "            fields=['displacement'], station_code=f\"{_i:06d}\",\n",
    "            ) for _i, rx in enumerate(rxs_adj_loc)]\n",
    "    \n",
    "    \n",
    "    event_name = event + f'_adjoint_iteration_{iteration}'\n",
    "\n",
    "    p.add_to_project(sn.Event(event_name=event_name, sources=srcs, receivers=recs)     )\n",
    "\n",
    "    wsc = sn.WaveformSimulationConfiguration(start_time_in_seconds=0, end_time_in_seconds=end_time, time_step_in_seconds=1/sampling_rate_in_hertz)\n",
    "\n",
    "    ec = sn.EventConfiguration(\n",
    "            wavelet=stf_ls,\n",
    "            waveform_simulation_configuration=wsc,\n",
    "    )\n",
    "    \n",
    "\n",
    "    return event_name, ec\n",
    "\n",
    "def adjoint_wavefield(mesh, event, iteration=0, fields=[\"strain\"], sampling_rate_in_hertz=CENTRAL_FREQUENCY*100, sampling_interval_in_time_steps=10):\n",
    "    event_adjoint, ec = generate_adjoint_source(event, sampling_rate_in_hertz, iteration=iteration)\n",
    "    \n",
    "    adjoint_simulation = f\"adjoint_simulation_{iteration}\"\n",
    "    sim_config = sn.UnstructuredMeshSimulationConfiguration(\n",
    "        unstructured_mesh=mesh,\n",
    "        name=adjoint_simulation,\n",
    "        # Event specific configuration.\n",
    "        event_configuration=ec\n",
    "        )\n",
    "    \n",
    "    p.add_to_project(sim_config, overwrite=True)\n",
    "    # simulation with volume data (full wavefield)\n",
    "    p.simulations.launch(\n",
    "        ranks_per_job=RANKS_PER_JOB,\n",
    "        site_name=SALVUS_FLOW_SITE_NAME,\n",
    "        events=event_adjoint,\n",
    "        simulation_configuration=adjoint_simulation,\n",
    "        extra_output_configuration={\n",
    "            \"volume_data\": {\n",
    "                \"sampling_interval_in_time_steps\": sampling_interval_in_time_steps,\n",
    "                \"fields\": fields,\n",
    "            },\n",
    "        },\n",
    "        delete_conflicting_previous_results=True,\n",
    "    )\n",
    "\n",
    "    p.simulations.query(block=True)\n",
    "    ed = p.waveforms.get(data_name=adjoint_simulation, events=event_adjoint)[0]\n",
    "    strain_field_adj  = wavefield_output_to_xarray(\n",
    "        ed.get_wavefield_output(output_type='volume', field=fileds[0]), \n",
    "        mesh.points).T.values\n",
    "    \n",
    "    return strain_field_adj\n",
    "    \n",
    "    \n",
    "def full_wavefield(mesh, simulation, event, fields=[\"strain\"], sampling_interval_in_time_steps=10):\n",
    "    \n",
    "    p.simulations.launch(\n",
    "    ranks_per_job=RANKS_PER_JOB,\n",
    "    site_name=SALVUS_FLOW_SITE_NAME,\n",
    "    events=event,\n",
    "    simulation_configuration=simulation,\n",
    "    extra_output_configuration={\n",
    "        \"volume_data\": {\n",
    "            \"sampling_interval_in_time_steps\": sampling_interval_in_time_steps,\n",
    "            \"fields\": fields,\n",
    "        },\n",
    "    },\n",
    "    delete_conflicting_previous_results=True,\n",
    "    )\n",
    "\n",
    "    p.simulations.query(block=True)\n",
    "    \n",
    "    \n",
    "    ed = p.waveforms.get(data_name=simulation, events=event)[0]\n",
    "    strain_field  = wavefield_output_to_xarray(\n",
    "        ed.get_wavefield_output(output_type='volume', field=fields[0]), mesh.points).T.values\n",
    "    return strain_field\n",
    "\n",
    "\n",
    "\n",
    "\n",
    "\n",
    "\n",
    "mistif, stf_adj = cal_mistf_adjoint_source(data_true, data_init)\n",
    "\n",
    "\n",
    "\n",
    "event = p.events.list()[0]\n",
    "\n",
    "m = defect_mask[:, None] * 1000\n",
    "\n",
    "mesh = generate_mesh_from_model_m(m, mesh=mesh_homogeneous)\n",
    "\n",
    "# strain shape (n_node, 3, t_step) \n",
    "strain_field = full_wavefield(mesh=mesh, simulation='initial_model', event=event, fields=[\"strain\"], sampling_interval_in_time_steps=10) \n",
    "strain_field_adj = adjoint_wavefield(mesh=mesh, event=event, iteration=0, fields=[\"strain\"], sampling_rate_in_hertz=CENTRAL_FREQUENCY*100, sampling_interval_in_time_steps=10)\n",
    "\n",
    "\n",
    "\n",
    "\n",
    "# stf_adj['X'][1,:] = 0\n",
    "# stf_adj['X'][0,:]=0\n",
    "mistif"
   ]
  },
  {
   "cell_type": "code",
   "execution_count": null,
   "id": "dc151bd5",
   "metadata": {},
   "outputs": [],
   "source": []
  },
  {
   "cell_type": "code",
   "execution_count": null,
   "id": "b29f9b92",
   "metadata": {},
   "outputs": [],
   "source": []
  },
  {
   "cell_type": "code",
   "execution_count": null,
   "id": "6b330221",
   "metadata": {},
   "outputs": [],
   "source": [
    "event = ev = p.events.get_all()[0]\n",
    "\n",
    "src_adj_loc = [r.location for r in event.receivers]\n",
    "rxs_adj_loc = [t.location for t in event.sources]\n",
    "\n",
    "stf_ls = [sc.stf.Custom.from_array(\n",
    "    np.array([stf_adj['X'][i], stf_adj['Y'][i]]),\n",
    "    sampling_rate_in_hertz=sampling_rate_in_hertz,\n",
    "    start_time_in_seconds=0.0,\n",
    ") for i in range(len(src_adj_loc))]\n",
    "\n",
    "srcs = [sn.simple_config.source.cartesian.VectorPoint2D(\n",
    "    x= t[0], y= t[1],\n",
    "    fx=1, fy=1,\n",
    ") for t in src_adj_loc]\n",
    "\n",
    "recs = [sn.simple_config.receiver.cartesian.Point2D(\n",
    "        x=rx[0], y=rx[1], \n",
    "        fields=['displacement'], station_code=f\"{_i:06d}\",\n",
    "        ) for _i, rx in enumerate(rxs_adj_loc)]"
   ]
  },
  {
   "cell_type": "code",
   "execution_count": 645,
   "id": "a0f2e3e1",
   "metadata": {},
   "outputs": [],
   "source": [
    "event_name = \"event_adjoint_0\"\n",
    "if event_name in p.events.list():\n",
    "        p.events.delete(\"event_adjoint_0\")\n",
    "\n",
    "\n",
    "p.add_to_project(sn.Event(event_name=f\"event_adjoint_0\", sources=srcs, receivers=recs)     )\n",
    "\n",
    "\n",
    "sampling_rate_in_hertz = center_frequency*100\n",
    "\n",
    "\n",
    "wsc = sn.WaveformSimulationConfiguration(start_time_in_seconds=0, end_time_in_seconds=end_time, time_step_in_seconds=1/sampling_rate_in_hertz)\n",
    "\n",
    "\n",
    "\n",
    "ec = sn.EventConfiguration(\n",
    "        wavelet=stf_ls,\n",
    "        waveform_simulation_configuration=wsc,\n",
    ")\n"
   ]
  },
  {
   "cell_type": "code",
   "execution_count": 646,
   "id": "5be76e97",
   "metadata": {},
   "outputs": [
    {
     "data": {
      "image/png": "[encoded data removed]",
      "text/plain": [
       "<Figure size 1400x600 with 4 Axes>"
      ]
     },
     "metadata": {},
     "output_type": "display_data"
    }
   ],
   "source": [
    "ec.wavelet[4].plot()\n",
    "# plt.savefig(Path(IMAGE_DIR_WIN, PROJECT_NAME + fr'_stf'))\n"
   ]
  },
  {
   "cell_type": "code",
   "execution_count": 647,
   "id": "3d345701",
   "metadata": {},
   "outputs": [
    {
     "name": "stdout",
     "output_type": "stream",
     "text": [
      "[2025-10-06 18:50:22,781] \u001b[34m\u001b[1mINFO\u001b[0m: Submitting job ...\n",
      "Uploading 6 files...\n",
      "\n",
      "🚀  Submitted job_2510061850003130_505e29dba5\u001b[0m@\u001b[34moliver_wsl\u001b[0m\n"
     ]
    },
    {
     "data": {
      "application/vnd.jupyter.widget-view+json": {
       "model_id": "2f6f96439baa415dbb7b36d6ea638fb7",
       "version_major": 2,
       "version_minor": 0
      },
      "text/plain": [
       "VBox()"
      ]
     },
     "metadata": {},
     "output_type": "display_data"
    },
    {
     "data": {
      "text/plain": [
       "True"
      ]
     },
     "execution_count": 647,
     "metadata": {},
     "output_type": "execute_result"
    }
   ],
   "source": [
    "\n",
    "\n",
    "\n",
    "sim_config = sn.UnstructuredMeshSimulationConfiguration(\n",
    "    unstructured_mesh=mesh_homogeneous_scatterers,\n",
    "    name=\"adjoint_simulation_0\",\n",
    "    # Event specific configuration.\n",
    "    event_configuration=ec,\n",
    ")\n",
    "\n",
    "\n",
    "p.add_to_project(sim_config, overwrite=True)\n",
    "\n",
    "\n",
    "\n",
    "\n",
    "fileds = [\"strain\"]\n",
    "\n",
    "# simulation with volume data (full wavefield)\n",
    "p.simulations.launch(\n",
    "    ranks_per_job=4,\n",
    "    site_name=SALVUS_FLOW_SITE_NAME,\n",
    "    events=\"event_adjoint_0\",\n",
    "    simulation_configuration=\"adjoint_simulation_0\",\n",
    "    extra_output_configuration={\n",
    "        \"volume_data\": {\n",
    "            \"sampling_interval_in_time_steps\": 10,\n",
    "            \"fields\": fileds,\n",
    "        },\n",
    "    },\n",
    "    # We have previously simulated the same event but without\n",
    "    # extra output. We have to thus overwrite the existing\n",
    "    # simulation.\n",
    "    delete_conflicting_previous_results=True,\n",
    ")\n",
    "\n",
    "p.simulations.query(block=True)"
   ]
  },
  {
   "cell_type": "code",
   "execution_count": 648,
   "id": "4f715fbe",
   "metadata": {},
   "outputs": [
    {
     "data": {
      "application/vnd.jupyter.widget-view+json": {
       "model_id": "24e8a9dab5f9401ca92b4ffee6013c26",
       "version_major": 2,
       "version_minor": 0
      },
      "text/plain": [
       "Finding enclosing elements (pass 1 of auto):   0%|          | 0/21009 [00:00<?, ?it/s]"
      ]
     },
     "metadata": {},
     "output_type": "display_data"
    },
    {
     "data": {
      "application/vnd.jupyter.widget-view+json": {
       "model_id": "195aad7a16934f5b9f8f00810e21abd8",
       "version_major": 2,
       "version_minor": 0
      },
      "text/plain": [
       "Extracting wavefield to regular grid:   0%|          | 0/8 [00:00<?, ?it/s]"
      ]
     },
     "metadata": {},
     "output_type": "display_data"
    }
   ],
   "source": [
    "mesh = p.simulations.get_mesh(\"initial_model\")\n",
    "ed = p.waveforms.get(data_name=\"adjoint_simulation_0\", events='event_adjoint_0')[0]\n",
    "strain_field_adj  = wavefield_output_to_xarray(\n",
    "    ed.get_wavefield_output(output_type='volume', field='strain'), \n",
    "    mesh.points).T.values"
   ]
  },
  {
   "cell_type": "code",
   "execution_count": 111,
   "id": "cb93e7f7",
   "metadata": {},
   "outputs": [
    {
     "ename": "TypeError",
     "evalue": "'module' object is not subscriptable",
     "output_type": "error",
     "traceback": [
      "\u001b[0;31m---------------------------------------------------------------------------\u001b[0m",
      "\u001b[0;31mTypeError\u001b[0m                                 Traceback (most recent call last)",
      "Cell \u001b[0;32mIn[111], line 46\u001b[0m\n\u001b[1;32m     41\u001b[0m axs[\u001b[38;5;241m1\u001b[39m]\u001b[38;5;241m.\u001b[39mset_title(\u001b[38;5;124mr\u001b[39m\u001b[38;5;124m\"\u001b[39m\u001b[38;5;124mTrace of adjoint strain $tr(\u001b[39m\u001b[38;5;124m\\\u001b[39m\u001b[38;5;124mepsilon^\u001b[39m\u001b[38;5;124m{\u001b[39m\u001b[38;5;124m\\\u001b[39m\u001b[38;5;124mdag})$\u001b[39m\u001b[38;5;124m\"\u001b[39m)\n\u001b[1;32m     44\u001b[0m plt\u001b[38;5;241m.\u001b[39mtight_layout()\n\u001b[0;32m---> 46\u001b[0m plt\u001b[38;5;241m.\u001b[39msavefig(Path(IMAGE_DIR_WIN, PROJECT_NAME \u001b[38;5;241m+\u001b[39m \u001b[38;5;124mfr\u001b[39m\u001b[38;5;124m'\u001b[39m\u001b[38;5;124m_adjoint_strain_t_\u001b[39m\u001b[38;5;132;01m{\u001b[39;00m\u001b[38;5;28mint\u001b[39m(\u001b[43mtime\u001b[49m\u001b[43m[\u001b[49m\u001b[43mt_idx\u001b[49m\u001b[43m]\u001b[49m\u001b[38;5;241m*\u001b[39m\u001b[38;5;241m1e6\u001b[39m)\u001b[38;5;132;01m}\u001b[39;00m\u001b[38;5;124m.png\u001b[39m\u001b[38;5;124m'\u001b[39m))\n\u001b[1;32m     49\u001b[0m plt\u001b[38;5;241m.\u001b[39mshow()\n",
      "\u001b[0;31mTypeError\u001b[0m: 'module' object is not subscriptable"
     ]
    },
    {
     "data": {
      "image/png": "[encoded data removed]",
      "text/plain": [
       "<Figure size 1400x600 with 2 Axes>"
      ]
     },
     "metadata": {},
     "output_type": "display_data"
    }
   ],
   "source": [
    "t_idx = 40\n",
    "nx, ny = int(np.sqrt(mesh.number_of_elements)) * 4 +9, int(np.sqrt(mesh.number_of_elements)) * 4 +1\n",
    "\n",
    "# print(int(time[t_idx]*1e6))\n",
    "\n",
    "# Prepare adjoint strain\n",
    "strain_adj_tr = strain_field_adj[:,0,:].reshape((nx, ny,-1)) + strain_field_adj[:,1,:].reshape((nx, ny,-1))\n",
    "strain_adj_tr_t = strain_adj_tr[:, :, -t_idx].T\n",
    "strain_adj_tr_t /= strain_adj_tr_t.max()\n",
    "\n",
    "# Prepare original strain\n",
    "strain_field /= strain_field.max()\n",
    "strain_tr = strain_field[:,0,:].reshape((nx, ny,-1)) + strain_field[:,1,:].reshape((nx, ny,-1))\n",
    "strain_tr_t = strain_tr[:, :, t_idx].T\n",
    "strain_tr_t /= strain_tr_t.max()\n",
    "\n",
    "# Grid edges\n",
    "x_edges = np.linspace(0, 1, nx+1)\n",
    "y_edges = np.linspace(0, 1, ny+1)\n",
    "\n",
    "# Create figure with two subplots\n",
    "fig, axs = plt.subplots(1, 2, figsize=(14, 6), dpi=100)\n",
    "\n",
    "\n",
    "# Plot original strain\n",
    "axs[0].pcolormesh(x_edges, y_edges, strain_tr_t, cmap=\"viridis\", vmin=0, vmax=1,\n",
    "                  edgecolors='white', linewidth=0, rasterized=True)\n",
    "axs[0].set_aspect(\"equal\")\n",
    "axs[0].set_xticks([])\n",
    "axs[0].set_yticks([])\n",
    "axs[0].set_title(r\"Trace of strain $tr(\\epsilon)$\")\n",
    "\n",
    "\n",
    "\n",
    "# Plot adjoint strain\n",
    "axs[1].pcolormesh(x_edges, y_edges, strain_adj_tr_t, cmap=\"viridis\", vmin=0, vmax=1,\n",
    "                  edgecolors='white', linewidth=0, rasterized=True)\n",
    "axs[1].set_aspect(\"equal\")\n",
    "axs[1].set_xticks([])\n",
    "axs[1].set_yticks([])\n",
    "axs[1].set_title(r\"Trace of adjoint strain $tr(\\epsilon^{\\dag})$\")\n",
    "\n",
    "\n",
    "plt.tight_layout()\n",
    "\n",
    "plt.savefig(Path(IMAGE_DIR_WIN, PROJECT_NAME + fr'_adjoint_strain_t_{int(time[t_idx]*1e6)}.png'))\n",
    "\n",
    "\n",
    "plt.show()\n"
   ]
  },
  {
   "cell_type": "code",
   "execution_count": 650,
   "id": "b3d2d4d7",
   "metadata": {},
   "outputs": [],
   "source": [
    "def global_nodal_field(mesh, filed='VP'):\n",
    "\n",
    "    VP_element = mesh.element_nodal_fields[filed]\n",
    "    conn = mesh.connectivity\n",
    "    n_nodes = mesh.number_of_nodes\n",
    "    # Prepare arrays for accumulation\n",
    "    VP_global = np.zeros(n_nodes)\n",
    "    counts = np.zeros(n_nodes)\n",
    "\n",
    "    # Accumulate values\n",
    "    np.add.at(VP_global, conn, VP_element)\n",
    "    np.add.at(counts, conn, 1)\n",
    "\n",
    "    # Avoid division by zero\n",
    "    counts[counts == 0] = 1\n",
    "    VP_global /= counts\n",
    "    return VP_global\n",
    "\n",
    "vp_global = global_nodal_field(mesh, 'VP')"
   ]
  },
  {
   "cell_type": "code",
   "execution_count": 112,
   "id": "b9f1bfc7",
   "metadata": {},
   "outputs": [
    {
     "data": {
      "image/png": "[encoded data removed]",
      "text/plain": [
       "<Figure size 800x600 with 2 Axes>"
      ]
     },
     "metadata": {},
     "output_type": "display_data"
    }
   ],
   "source": [
    "strain_tr_adj = strain_field_adj[:,0,:] + strain_field_adj[:,1,:] \n",
    "strain_tr = strain_field[:,0,:] + strain_field[:,1,:]\n",
    "\n",
    "\n",
    "gradient = (np.flip(strain_tr_adj,axis=1)  * strain_tr ).sum(axis=1)\n",
    "gradient = -gradient.reshape((nx, ny)).T \n",
    "\n",
    "fig, ax = plt.subplots(figsize=(8, 6), dpi=100)\n",
    "\n",
    "\n",
    "pc = ax.pcolormesh(x_edges, y_edges, gradient, cmap=\"viridis\",\n",
    "                   edgecolors='white', linewidth=0, rasterized=True)  # Thicker grid lines\n",
    "\n",
    "# Colorbar\n",
    "cbar = plt.colorbar(pc, ax=ax)\n",
    "cbar.set_label(\"normalized value\")\n",
    "\n",
    "# Hide all ticks and labels\n",
    "ax.set_xticks([])\n",
    "ax.set_yticks([])\n",
    "ax.set_xticklabels([])\n",
    "ax.set_yticklabels([])\n",
    "\n",
    "# Keep square aspect and clean layout\n",
    "ax.set_aspect(\"equal\")\n",
    "plt.title(\"Senstivity kernel\")\n",
    "plt.tight_layout()\n",
    "plt.savefig(Path(IMAGE_DIR_WIN, PROJECT_NAME + fr'_gradient.png'))\n",
    "\n",
    "plt.show()\n"
   ]
  },
  {
   "cell_type": "code",
   "execution_count": 652,
   "id": "a820f7b6",
   "metadata": {},
   "outputs": [
    {
     "data": {
      "application/vnd.jupyter.widget-view+json": {
       "model_id": "50a3cb458e2647a2a7826cd369ec24db",
       "version_major": 2,
       "version_minor": 0
      },
      "text/plain": [
       "VBox(children=(HTML(value='\\n            <p><i>This is only a preview. Use ParaView to actually investigate\\n …"
      ]
     },
     "metadata": {},
     "output_type": "display_data"
    },
    {
     "data": {
      "text/plain": [
       "<salvus.mesh.data_structures.unstructured_mesh.unstructured_mesh.UnstructuredMesh object at 0x732a82b682d0>"
      ]
     },
     "execution_count": 652,
     "metadata": {},
     "output_type": "execute_result"
    }
   ],
   "source": [
    "# region of interest for inversion\n",
    "centroids = mesh_homogeneous_scatterers.get_element_centroid()\n",
    "# roi = np.linalg.norm(centroids - np.array([x1/2, y1/2]), axis=1) < roi_radius\n",
    "defect_mask_x = (centroids[:,0]<= 9e-3) & (centroids[:,0]>= 1e-3)\n",
    "defect_mask_y = (centroids[:,1]<= 7e-3) & (centroids[:,1]>= 3e-3)\n",
    "roi = defect_mask_x & defect_mask_y\n",
    "\n",
    "\n",
    "mesh_roi = mesh_homogeneous_scatterers.copy()\n",
    "fields = [field for field in mesh_roi.elemental_fields]\n",
    "for field in fields:\n",
    "    mesh_roi.elemental_fields.pop(field)\n",
    "mesh_roi.attach_field(\n",
    "    \"region_of_interest\",\n",
    "    np.broadcast_to(roi[:, None], mesh_roi.connectivity.shape),\n",
    ")\n",
    "\n",
    "\n",
    "\n",
    "mesh_roi"
   ]
  },
  {
   "cell_type": "code",
   "execution_count": 653,
   "id": "cfd9bd19",
   "metadata": {},
   "outputs": [
    {
     "name": "stdout",
     "output_type": "stream",
     "text": [
      "[2025-10-06 18:50:30,336] \u001b[34m\u001b[1mINFO\u001b[0m: Adding new iteration #0.\n",
      "[2025-10-06 18:50:30,473] \u001b[34m\u001b[1mINFO\u001b[0m: Resuming iteration #0.\n",
      "\n",
      "[2025-10-06 18:50:30,482] \u001b[34m\u001b[1mINFO\u001b[0m: 1 new tasks have been issued.\n",
      "[2025-10-06 18:50:30,482] \u001b[34m\u001b[1mINFO\u001b[0m: Processing task `misfit_and_gradient`\n",
      "[2025-10-06 18:50:30,904] \u001b[34m\u001b[1mINFO\u001b[0m: Submitting job ...\n",
      "[2025-10-06 18:50:31,110] \u001b[34m\u001b[1mINFO\u001b[0m: Launched simulations for 1 events. Please check again to see if they are finished.\n",
      "[2025-10-06 18:50:31,111] \u001b[34m\u001b[1mINFO\u001b[0m: Some tasks of iteration #0 are still running. Please check again later.\n",
      "[2025-10-06 18:50:41,938] \u001b[34m\u001b[1mINFO\u001b[0m: Processing task `misfit_and_gradient`\n",
      "[2025-10-06 18:50:44,156] \u001b[34m\u001b[1mINFO\u001b[0m: Submitting job ...\n",
      "[2025-10-06 18:50:44,287] \u001b[34m\u001b[1mINFO\u001b[0m: Launched adjoint simulations for 1 events. Please check again to see if they are finished.\n",
      "[2025-10-06 18:50:44,288] \u001b[34m\u001b[1mINFO\u001b[0m: Some tasks of iteration #0 are still running. Please check again later.\n",
      "[2025-10-06 18:50:54,357] \u001b[34m\u001b[1mINFO\u001b[0m: Processing task `misfit_and_gradient`\n",
      "[2025-10-06 18:50:56,544] \u001b[34m\u001b[1mINFO\u001b[0m: \u001b[1m\n",
      "Iteration 0: Number of events: 1\t chi = 0.0026611569337546825\t ||g|| = 0.0015299594973878733\n",
      "pred = ---\tared = ---\tnorm_update = ---\ttr_radius = ---\u001b[0m\n",
      "[2025-10-06 18:50:56,568] \u001b[34m\u001b[1mINFO\u001b[0m: 1 new tasks have been issued.\n",
      "[2025-10-06 18:50:56,569] \u001b[34m\u001b[1mINFO\u001b[0m: Processing task `misfit`\n",
      "[2025-10-06 18:50:56,979] \u001b[34m\u001b[1mINFO\u001b[0m: Submitting job ...\n",
      "[2025-10-06 18:50:57,177] \u001b[34m\u001b[1mINFO\u001b[0m: Launched simulations for 1 events. Please check again to see if they are finished.\n",
      "[2025-10-06 18:50:57,178] \u001b[34m\u001b[1mINFO\u001b[0m: Some tasks of iteration #0 are still running. Please check again later.\n",
      "[2025-10-06 18:51:07,310] \u001b[34m\u001b[1mINFO\u001b[0m: Processing task `misfit`\n",
      "[2025-10-06 18:51:08,208] \u001b[34m\u001b[1mINFO\u001b[0m: \n",
      "old misfit control group: 0.0026611569337546825\n",
      "new misfit control group: 0.0026122459676116705\n",
      "predicted reduction control group: -2.3418950149789453e-05\n",
      "actual reduction control group: -4.891096614301205e-05\n",
      "1 out of 1 event(s) improved the misfit.\n",
      "[2025-10-06 18:51:08,209] \u001b[34m\u001b[1mINFO\u001b[0m: \u001b[32m\n",
      "Model update accepted.\u001b[0m\n",
      "[2025-10-06 18:51:08,209] \u001b[34m\u001b[1mINFO\u001b[0m: 1 new tasks have been issued.\n",
      "[2025-10-06 18:51:08,210] \u001b[34m\u001b[1mINFO\u001b[0m: Processing task `finalize_iteration`\n",
      "[2025-10-06 18:51:08,559] \u001b[34m\u001b[1mINFO\u001b[0m: ... searching for obsolete files in /mnt/d/Salvus_project/elastic_model/anisotropic/Project/gradient/INVERSIONS/salvus_inversion/00000\n",
      "[2025-10-06 18:51:08,709] \u001b[34m\u001b[1mINFO\u001b[0m: Freed up 0.0 bytes of space.\n",
      "[2025-10-06 18:51:08,710] \u001b[34m\u001b[1mINFO\u001b[0m: Successfully completed iteration #0.\n",
      "[2025-10-06 18:51:08,738] \u001b[34m\u001b[1mINFO\u001b[0m: Adding new iteration #1.\n",
      "[2025-10-06 18:51:08,989] \u001b[34m\u001b[1mINFO\u001b[0m: Resuming iteration #1.\n",
      "\n",
      "[2025-10-06 18:51:08,999] \u001b[34m\u001b[1mINFO\u001b[0m: 1 new tasks have been issued.\n",
      "[2025-10-06 18:51:09,000] \u001b[34m\u001b[1mINFO\u001b[0m: Processing task `gradient`\n",
      "[2025-10-06 18:51:10,234] \u001b[34m\u001b[1mINFO\u001b[0m: Submitting job ...\n",
      "[2025-10-06 18:51:10,364] \u001b[34m\u001b[1mINFO\u001b[0m: Launched adjoint simulations for 1 events. Please check again to see if they are finished.\n",
      "[2025-10-06 18:51:10,365] \u001b[34m\u001b[1mINFO\u001b[0m: Some tasks of iteration #1 are still running. Please check again later.\n",
      "[2025-10-06 18:51:21,319] \u001b[34m\u001b[1mINFO\u001b[0m: Processing task `gradient`\n",
      "[2025-10-06 18:51:23,115] \u001b[34m\u001b[1mINFO\u001b[0m: \u001b[1m\n",
      "Iteration 1: Number of events: 1\t chi = 0.0026122459676116705\t ||g|| = 0.0015244562252059541\n",
      "pred = -2.3418950149789453e-05\tared = -4.891096614301205e-05\tnorm_update = 0.03061381520019456\ttr_radius = 0.030613783827858544\u001b[0m\n",
      "[2025-10-06 18:51:23,192] \u001b[34m\u001b[1mINFO\u001b[0m: 1 new tasks have been issued.\n",
      "[2025-10-06 18:51:23,192] \u001b[34m\u001b[1mINFO\u001b[0m: Processing task `misfit`\n",
      "[2025-10-06 18:51:23,632] \u001b[34m\u001b[1mINFO\u001b[0m: Submitting job ...\n",
      "[2025-10-06 18:51:23,831] \u001b[34m\u001b[1mINFO\u001b[0m: Launched simulations for 1 events. Please check again to see if they are finished.\n",
      "[2025-10-06 18:51:23,831] \u001b[34m\u001b[1mINFO\u001b[0m: Some tasks of iteration #1 are still running. Please check again later.\n",
      "[2025-10-06 18:51:34,004] \u001b[34m\u001b[1mINFO\u001b[0m: Processing task `misfit`\n",
      "[2025-10-06 18:51:34,893] \u001b[34m\u001b[1mINFO\u001b[0m: \n",
      "old misfit control group: 0.0026122459676116705\n",
      "new misfit control group: 0.0025196908973157406\n",
      "predicted reduction control group: -4.415462171891704e-05\n",
      "actual reduction control group: -9.255507029592991e-05\n",
      "1 out of 1 event(s) improved the misfit.\n",
      "[2025-10-06 18:51:34,894] \u001b[34m\u001b[1mINFO\u001b[0m: \u001b[32m\n",
      "Model update accepted.\u001b[0m\n",
      "[2025-10-06 18:51:34,895] \u001b[34m\u001b[1mINFO\u001b[0m: 1 new tasks have been issued.\n",
      "[2025-10-06 18:51:34,895] \u001b[34m\u001b[1mINFO\u001b[0m: Processing task `finalize_iteration`\n",
      "[2025-10-06 18:51:35,256] \u001b[34m\u001b[1mINFO\u001b[0m: ... searching for obsolete files in /mnt/d/Salvus_project/elastic_model/anisotropic/Project/gradient/INVERSIONS/salvus_inversion/00001\n",
      "[2025-10-06 18:51:36,226] \u001b[34m\u001b[1mINFO\u001b[0m: Freed up 1.8 MB of space.\n",
      "[2025-10-06 18:51:36,226] \u001b[34m\u001b[1mINFO\u001b[0m: Successfully completed iteration #1.\n",
      "[2025-10-06 18:51:36,261] \u001b[34m\u001b[1mINFO\u001b[0m: Adding new iteration #2.\n",
      "[2025-10-06 18:51:36,545] \u001b[34m\u001b[1mINFO\u001b[0m: Resuming iteration #2.\n",
      "\n",
      "[2025-10-06 18:51:36,554] \u001b[34m\u001b[1mINFO\u001b[0m: 1 new tasks have been issued.\n",
      "[2025-10-06 18:51:36,555] \u001b[34m\u001b[1mINFO\u001b[0m: Processing task `gradient`\n",
      "[2025-10-06 18:51:37,718] \u001b[34m\u001b[1mINFO\u001b[0m: Submitting job ...\n",
      "[2025-10-06 18:51:37,848] \u001b[34m\u001b[1mINFO\u001b[0m: Launched adjoint simulations for 1 events. Please check again to see if they are finished.\n",
      "[2025-10-06 18:51:37,849] \u001b[34m\u001b[1mINFO\u001b[0m: Some tasks of iteration #2 are still running. Please check again later.\n",
      "[2025-10-06 18:51:48,947] \u001b[34m\u001b[1mINFO\u001b[0m: Processing task `gradient`\n",
      "[2025-10-06 18:51:50,902] \u001b[34m\u001b[1mINFO\u001b[0m: \u001b[1m\n",
      "Iteration 2: Number of events: 1\t chi = 0.0025196908973157406\t ||g|| = 0.0015162634379265777\n",
      "pred = -4.415462171891704e-05\tared = -9.255507029592991e-05\tnorm_update = 0.06122758286655258\ttr_radius = 0.06122756765571709\u001b[0m\n",
      "[2025-10-06 18:51:51,036] \u001b[34m\u001b[1mINFO\u001b[0m: 1 new tasks have been issued.\n",
      "[2025-10-06 18:51:51,037] \u001b[34m\u001b[1mINFO\u001b[0m: Processing task `misfit`\n",
      "[2025-10-06 18:51:51,531] \u001b[34m\u001b[1mINFO\u001b[0m: Submitting job ...\n",
      "[2025-10-06 18:51:51,754] \u001b[34m\u001b[1mINFO\u001b[0m: Launched simulations for 1 events. Please check again to see if they are finished.\n",
      "[2025-10-06 18:51:51,755] \u001b[34m\u001b[1mINFO\u001b[0m: Some tasks of iteration #2 are still running. Please check again later.\n",
      "[2025-10-06 18:52:01,965] \u001b[34m\u001b[1mINFO\u001b[0m: Processing task `misfit`\n",
      "[2025-10-06 18:52:02,872] \u001b[34m\u001b[1mINFO\u001b[0m: \n",
      "old misfit control group: 0.0025196908973157406\n",
      "new misfit control group: 0.0023411051370203495\n",
      "predicted reduction control group: -8.516074740327895e-05\n",
      "actual reduction control group: -0.00017858576029539108\n",
      "1 out of 1 event(s) improved the misfit.\n",
      "[2025-10-06 18:52:02,873] \u001b[34m\u001b[1mINFO\u001b[0m: \u001b[32m\n",
      "Model update accepted.\u001b[0m\n",
      "[2025-10-06 18:52:02,873] \u001b[34m\u001b[1mINFO\u001b[0m: 1 new tasks have been issued.\n",
      "[2025-10-06 18:52:02,874] \u001b[34m\u001b[1mINFO\u001b[0m: Processing task `finalize_iteration`\n",
      "[2025-10-06 18:52:03,303] \u001b[34m\u001b[1mINFO\u001b[0m: ... searching for obsolete files in /mnt/d/Salvus_project/elastic_model/anisotropic/Project/gradient/INVERSIONS/salvus_inversion/00002\n",
      "[2025-10-06 18:52:04,317] \u001b[34m\u001b[1mINFO\u001b[0m: Freed up 1.8 MB of space.\n",
      "[2025-10-06 18:52:04,318] \u001b[34m\u001b[1mINFO\u001b[0m: Successfully completed iteration #2.\n",
      "[2025-10-06 18:52:04,365] \u001b[34m\u001b[1mINFO\u001b[0m: Adding new iteration #3.\n",
      "[2025-10-06 18:52:04,708] \u001b[34m\u001b[1mINFO\u001b[0m: Resuming iteration #3.\n",
      "\n",
      "[2025-10-06 18:52:04,717] \u001b[34m\u001b[1mINFO\u001b[0m: 1 new tasks have been issued.\n",
      "[2025-10-06 18:52:04,717] \u001b[34m\u001b[1mINFO\u001b[0m: Processing task `gradient`\n",
      "[2025-10-06 18:52:05,895] \u001b[34m\u001b[1mINFO\u001b[0m: Submitting job ...\n",
      "[2025-10-06 18:52:06,021] \u001b[34m\u001b[1mINFO\u001b[0m: Launched adjoint simulations for 1 events. Please check again to see if they are finished.\n",
      "[2025-10-06 18:52:06,022] \u001b[34m\u001b[1mINFO\u001b[0m: Some tasks of iteration #3 are still running. Please check again later.\n",
      "[2025-10-06 18:52:16,184] \u001b[34m\u001b[1mINFO\u001b[0m: Processing task `gradient`\n",
      "[2025-10-06 18:52:18,725] \u001b[34m\u001b[1mINFO\u001b[0m: \u001b[1m\n",
      "Iteration 3: Number of events: 1\t chi = 0.0023411051370203495\t ||g|| = 0.001499055142904148\n",
      "pred = -8.516074740327895e-05\tared = -0.00017858576029539108\tnorm_update = 0.12245514291685264\ttr_radius = 0.12245513531143418\u001b[0m\n",
      "[2025-10-06 18:52:18,909] \u001b[34m\u001b[1mINFO\u001b[0m: 1 new tasks have been issued.\n",
      "[2025-10-06 18:52:18,909] \u001b[34m\u001b[1mINFO\u001b[0m: Processing task `misfit`\n",
      "[2025-10-06 18:52:19,342] \u001b[34m\u001b[1mINFO\u001b[0m: Submitting job ...\n",
      "[2025-10-06 18:52:19,542] \u001b[34m\u001b[1mINFO\u001b[0m: Launched simulations for 1 events. Please check again to see if they are finished.\n",
      "[2025-10-06 18:52:19,543] \u001b[34m\u001b[1mINFO\u001b[0m: Some tasks of iteration #3 are still running. Please check again later.\n",
      "[2025-10-06 18:52:29,775] \u001b[34m\u001b[1mINFO\u001b[0m: Processing task `misfit`\n",
      "[2025-10-06 18:52:30,646] \u001b[34m\u001b[1mINFO\u001b[0m: \n",
      "old misfit control group: 0.0023411051370203495\n",
      "new misfit control group: 0.001992328092455864\n",
      "predicted reduction control group: -0.00016714626690372825\n",
      "actual reduction control group: -0.00034877704456448555\n",
      "1 out of 1 event(s) improved the misfit.\n",
      "[2025-10-06 18:52:30,646] \u001b[34m\u001b[1mINFO\u001b[0m: \u001b[32m\n",
      "Model update accepted.\u001b[0m\n",
      "[2025-10-06 18:52:30,647] \u001b[34m\u001b[1mINFO\u001b[0m: 1 new tasks have been issued.\n",
      "[2025-10-06 18:52:30,648] \u001b[34m\u001b[1mINFO\u001b[0m: Processing task `finalize_iteration`\n",
      "[2025-10-06 18:52:31,114] \u001b[34m\u001b[1mINFO\u001b[0m: ... searching for obsolete files in /mnt/d/Salvus_project/elastic_model/anisotropic/Project/gradient/INVERSIONS/salvus_inversion/00003\n",
      "[2025-10-06 18:52:32,145] \u001b[34m\u001b[1mINFO\u001b[0m: Freed up 1.8 MB of space.\n",
      "[2025-10-06 18:52:32,146] \u001b[34m\u001b[1mINFO\u001b[0m: Successfully completed iteration #3.\n",
      "[2025-10-06 18:52:32,199] \u001b[34m\u001b[1mINFO\u001b[0m: Adding new iteration #4.\n",
      "[2025-10-06 18:52:32,588] \u001b[34m\u001b[1mINFO\u001b[0m: Resuming iteration #4.\n",
      "\n",
      "[2025-10-06 18:52:32,597] \u001b[34m\u001b[1mINFO\u001b[0m: 1 new tasks have been issued.\n",
      "[2025-10-06 18:52:32,598] \u001b[34m\u001b[1mINFO\u001b[0m: Processing task `gradient`\n",
      "[2025-10-06 18:52:33,734] \u001b[34m\u001b[1mINFO\u001b[0m: Submitting job ...\n",
      "[2025-10-06 18:52:33,858] \u001b[34m\u001b[1mINFO\u001b[0m: Launched adjoint simulations for 1 events. Please check again to see if they are finished.\n",
      "[2025-10-06 18:52:33,859] \u001b[34m\u001b[1mINFO\u001b[0m: Some tasks of iteration #4 are still running. Please check again later.\n",
      "[2025-10-06 18:52:44,040] \u001b[34m\u001b[1mINFO\u001b[0m: Processing task `gradient`\n",
      "[2025-10-06 18:52:45,825] \u001b[34m\u001b[1mINFO\u001b[0m: \u001b[1m\n",
      "Iteration 4: Number of events: 1\t chi = 0.001992328092455864\t ||g|| = 0.0014527042607625342\n",
      "pred = -0.00016714626690372825\tared = -0.00034877704456448555\tnorm_update = 0.24491030104454123\ttr_radius = 0.24491027062286835\u001b[0m\n",
      "[2025-10-06 18:52:46,047] \u001b[34m\u001b[1mINFO\u001b[0m: 1 new tasks have been issued.\n",
      "[2025-10-06 18:52:46,048] \u001b[34m\u001b[1mINFO\u001b[0m: Processing task `misfit`\n",
      "[2025-10-06 18:52:46,486] \u001b[34m\u001b[1mINFO\u001b[0m: Submitting job ...\n",
      "[2025-10-06 18:52:46,689] \u001b[34m\u001b[1mINFO\u001b[0m: Launched simulations for 1 events. Please check again to see if they are finished.\n",
      "[2025-10-06 18:52:46,690] \u001b[34m\u001b[1mINFO\u001b[0m: Some tasks of iteration #4 are still running. Please check again later.\n",
      "[2025-10-06 18:52:57,741] \u001b[34m\u001b[1mINFO\u001b[0m: Processing task `misfit`\n",
      "[2025-10-06 18:52:58,603] \u001b[34m\u001b[1mINFO\u001b[0m: \n",
      "old misfit control group: 0.001992328092455864\n",
      "new misfit control group: 0.0013332051457837224\n",
      "predicted reduction control group: -0.00032596211531199515\n",
      "actual reduction control group: -0.0006591229466721416\n",
      "1 out of 1 event(s) improved the misfit.\n",
      "[2025-10-06 18:52:58,604] \u001b[34m\u001b[1mINFO\u001b[0m: \u001b[32m\n",
      "Model update accepted.\u001b[0m\n",
      "[2025-10-06 18:52:58,604] \u001b[34m\u001b[1mINFO\u001b[0m: 1 new tasks have been issued.\n",
      "[2025-10-06 18:52:58,604] \u001b[34m\u001b[1mINFO\u001b[0m: Processing task `finalize_iteration`\n",
      "[2025-10-06 18:52:59,123] \u001b[34m\u001b[1mINFO\u001b[0m: ... searching for obsolete files in /mnt/d/Salvus_project/elastic_model/anisotropic/Project/gradient/INVERSIONS/salvus_inversion/00004\n",
      "[2025-10-06 18:53:00,134] \u001b[34m\u001b[1mINFO\u001b[0m: Freed up 1.8 MB of space.\n",
      "[2025-10-06 18:53:00,135] \u001b[34m\u001b[1mINFO\u001b[0m: Successfully completed iteration #4.\n",
      "[2025-10-06 18:53:00,195] \u001b[34m\u001b[1mINFO\u001b[0m: Adding new iteration #5.\n",
      "[2025-10-06 18:53:00,625] \u001b[34m\u001b[1mINFO\u001b[0m: Resuming iteration #5.\n",
      "\n",
      "[2025-10-06 18:53:00,634] \u001b[34m\u001b[1mINFO\u001b[0m: 1 new tasks have been issued.\n",
      "[2025-10-06 18:53:00,635] \u001b[34m\u001b[1mINFO\u001b[0m: Processing task `gradient`\n",
      "[2025-10-06 18:53:01,766] \u001b[34m\u001b[1mINFO\u001b[0m: Submitting job ...\n",
      "[2025-10-06 18:53:01,898] \u001b[34m\u001b[1mINFO\u001b[0m: Launched adjoint simulations for 1 events. Please check again to see if they are finished.\n",
      "[2025-10-06 18:53:01,899] \u001b[34m\u001b[1mINFO\u001b[0m: Some tasks of iteration #5 are still running. Please check again later.\n",
      "[2025-10-06 18:53:12,105] \u001b[34m\u001b[1mINFO\u001b[0m: Processing task `gradient`\n",
      "[2025-10-06 18:53:13,849] \u001b[34m\u001b[1mINFO\u001b[0m: \u001b[1m\n",
      "Iteration 5: Number of events: 1\t chi = 0.0013332051457837224\t ||g|| = 0.0012900933080385276\n",
      "pred = -0.00032596211531199515\tared = -0.0006591229466721416\tnorm_update = 0.4898205412457367\ttr_radius = 0.4898205412457367\u001b[0m\n",
      "[2025-10-06 18:53:14,131] \u001b[34m\u001b[1mINFO\u001b[0m: 1 new tasks have been issued.\n",
      "[2025-10-06 18:53:14,132] \u001b[34m\u001b[1mINFO\u001b[0m: Processing task `misfit`\n",
      "[2025-10-06 18:53:14,565] \u001b[34m\u001b[1mINFO\u001b[0m: Submitting job ...\n",
      "[2025-10-06 18:53:14,768] \u001b[34m\u001b[1mINFO\u001b[0m: Launched simulations for 1 events. Please check again to see if they are finished.\n",
      "[2025-10-06 18:53:14,769] \u001b[34m\u001b[1mINFO\u001b[0m: Some tasks of iteration #5 are still running. Please check again later.\n",
      "[2025-10-06 18:53:25,871] \u001b[34m\u001b[1mINFO\u001b[0m: Processing task `misfit`\n",
      "[2025-10-06 18:53:26,725] \u001b[34m\u001b[1mINFO\u001b[0m: \n",
      "old misfit control group: 0.0013332051457837224\n",
      "new misfit control group: 0.00039224186912178993\n",
      "predicted reduction control group: -0.0005926096346229315\n",
      "actual reduction control group: -0.0009409632766619325\n",
      "1 out of 1 event(s) improved the misfit.\n",
      "[2025-10-06 18:53:26,726] \u001b[34m\u001b[1mINFO\u001b[0m: \u001b[32m\n",
      "Model update accepted.\u001b[0m\n",
      "[2025-10-06 18:53:26,727] \u001b[34m\u001b[1mINFO\u001b[0m: 1 new tasks have been issued.\n",
      "[2025-10-06 18:53:26,727] \u001b[34m\u001b[1mINFO\u001b[0m: Processing task `finalize_iteration`\n",
      "[2025-10-06 18:53:27,300] \u001b[34m\u001b[1mINFO\u001b[0m: ... searching for obsolete files in /mnt/d/Salvus_project/elastic_model/anisotropic/Project/gradient/INVERSIONS/salvus_inversion/00005\n",
      "[2025-10-06 18:53:28,340] \u001b[34m\u001b[1mINFO\u001b[0m: Freed up 1.8 MB of space.\n",
      "[2025-10-06 18:53:28,341] \u001b[34m\u001b[1mINFO\u001b[0m: Successfully completed iteration #5.\n",
      "[2025-10-06 18:53:28,412] \u001b[34m\u001b[1mINFO\u001b[0m: Adding new iteration #6.\n",
      "[2025-10-06 18:53:28,908] \u001b[34m\u001b[1mINFO\u001b[0m: Resuming iteration #6.\n",
      "\n",
      "[2025-10-06 18:53:28,916] \u001b[34m\u001b[1mINFO\u001b[0m: 1 new tasks have been issued.\n",
      "[2025-10-06 18:53:28,916] \u001b[34m\u001b[1mINFO\u001b[0m: Processing task `gradient`\n",
      "[2025-10-06 18:53:30,037] \u001b[34m\u001b[1mINFO\u001b[0m: Submitting job ...\n",
      "[2025-10-06 18:53:30,171] \u001b[34m\u001b[1mINFO\u001b[0m: Launched adjoint simulations for 1 events. Please check again to see if they are finished.\n",
      "[2025-10-06 18:53:30,172] \u001b[34m\u001b[1mINFO\u001b[0m: Some tasks of iteration #6 are still running. Please check again later.\n",
      "[2025-10-06 18:53:40,410] \u001b[34m\u001b[1mINFO\u001b[0m: Processing task `gradient`\n",
      "[2025-10-06 18:53:42,135] \u001b[34m\u001b[1mINFO\u001b[0m: \u001b[1m\n",
      "Iteration 6: Number of events: 1\t chi = 0.00039224186912178993\t ||g|| = 0.0005313325867110857\n",
      "pred = -0.0005926096346229315\tared = -0.0009409632766619325\tnorm_update = 0.9796410216481221\ttr_radius = 0.9796410824914734\u001b[0m\n",
      "[2025-10-06 18:53:42,451] \u001b[34m\u001b[1mINFO\u001b[0m: 1 new tasks have been issued.\n",
      "[2025-10-06 18:53:42,451] \u001b[34m\u001b[1mINFO\u001b[0m: Processing task `misfit`\n",
      "[2025-10-06 18:53:42,864] \u001b[34m\u001b[1mINFO\u001b[0m: Submitting job ...\n",
      "[2025-10-06 18:53:43,067] \u001b[34m\u001b[1mINFO\u001b[0m: Launched simulations for 1 events. Please check again to see if they are finished.\n",
      "[2025-10-06 18:53:43,067] \u001b[34m\u001b[1mINFO\u001b[0m: Some tasks of iteration #6 are still running. Please check again later.\n",
      "[2025-10-06 18:53:53,387] \u001b[34m\u001b[1mINFO\u001b[0m: Processing task `misfit`\n",
      "[2025-10-06 18:53:54,288] \u001b[34m\u001b[1mINFO\u001b[0m: \n",
      "old misfit control group: 0.00039224186912178993\n",
      "new misfit control group: 0.00034553674049675465\n",
      "predicted reduction control group: -0.00021817322704009712\n",
      "actual reduction control group: -4.6705128625035286e-05\n",
      "1 out of 1 event(s) improved the misfit.\n",
      "[2025-10-06 18:53:54,288] \u001b[34m\u001b[1mINFO\u001b[0m: \u001b[32m\n",
      "Model update accepted.\u001b[0m\n",
      "[2025-10-06 18:53:54,289] \u001b[34m\u001b[1mINFO\u001b[0m: 1 new tasks have been issued.\n",
      "[2025-10-06 18:53:54,289] \u001b[34m\u001b[1mINFO\u001b[0m: Processing task `finalize_iteration`\n",
      "[2025-10-06 18:53:54,907] \u001b[34m\u001b[1mINFO\u001b[0m: ... searching for obsolete files in /mnt/d/Salvus_project/elastic_model/anisotropic/Project/gradient/INVERSIONS/salvus_inversion/00006\n",
      "[2025-10-06 18:53:56,006] \u001b[34m\u001b[1mINFO\u001b[0m: Freed up 1.8 MB of space.\n",
      "[2025-10-06 18:53:56,006] \u001b[34m\u001b[1mINFO\u001b[0m: Successfully completed iteration #6.\n",
      "[2025-10-06 18:53:56,090] \u001b[34m\u001b[1mINFO\u001b[0m: Adding new iteration #7.\n",
      "[2025-10-06 18:53:57,471] \u001b[34m\u001b[1mINFO\u001b[0m: Resuming iteration #7.\n",
      "\n",
      "[2025-10-06 18:53:57,480] \u001b[34m\u001b[1mINFO\u001b[0m: 1 new tasks have been issued.\n",
      "[2025-10-06 18:53:57,481] \u001b[34m\u001b[1mINFO\u001b[0m: Processing task `gradient`\n",
      "[2025-10-06 18:53:58,705] \u001b[34m\u001b[1mINFO\u001b[0m: Submitting job ...\n",
      "[2025-10-06 18:53:58,835] \u001b[34m\u001b[1mINFO\u001b[0m: Launched adjoint simulations for 1 events. Please check again to see if they are finished.\n",
      "[2025-10-06 18:53:58,836] \u001b[34m\u001b[1mINFO\u001b[0m: Some tasks of iteration #7 are still running. Please check again later.\n",
      "[2025-10-06 18:54:09,114] \u001b[34m\u001b[1mINFO\u001b[0m: Processing task `gradient`\n",
      "[2025-10-06 18:54:10,887] \u001b[34m\u001b[1mINFO\u001b[0m: \u001b[1m\n",
      "Iteration 7: Number of events: 1\t chi = 0.00034553674049675465\t ||g|| = 0.0009092048046848086\n",
      "pred = -0.00021817322704009712\tared = -4.6705128625035286e-05\tnorm_update = 0.850243623264878\ttr_radius = 1.9592821649829468\u001b[0m\n",
      "[2025-10-06 18:54:11,268] \u001b[34m\u001b[1mINFO\u001b[0m: 1 new tasks have been issued.\n",
      "[2025-10-06 18:54:11,269] \u001b[34m\u001b[1mINFO\u001b[0m: Processing task `misfit`\n",
      "[2025-10-06 18:54:11,710] \u001b[34m\u001b[1mINFO\u001b[0m: Submitting job ...\n",
      "[2025-10-06 18:54:11,908] \u001b[34m\u001b[1mINFO\u001b[0m: Launched simulations for 1 events. Please check again to see if they are finished.\n",
      "[2025-10-06 18:54:11,909] \u001b[34m\u001b[1mINFO\u001b[0m: Some tasks of iteration #7 are still running. Please check again later.\n",
      "[2025-10-06 18:54:22,244] \u001b[34m\u001b[1mINFO\u001b[0m: Processing task `misfit`\n",
      "[2025-10-06 18:54:23,118] \u001b[34m\u001b[1mINFO\u001b[0m: \n",
      "old misfit control group: 0.00034553674049675465\n",
      "new misfit control group: 0.00019823409093078226\n",
      "predicted reduction control group: -0.0001497324847150594\n",
      "actual reduction control group: -0.0001473026495659724\n",
      "1 out of 1 event(s) improved the misfit.\n",
      "[2025-10-06 18:54:23,118] \u001b[34m\u001b[1mINFO\u001b[0m: \u001b[32m\n",
      "Model update accepted.\u001b[0m\n",
      "[2025-10-06 18:54:23,119] \u001b[34m\u001b[1mINFO\u001b[0m: 1 new tasks have been issued.\n",
      "[2025-10-06 18:54:23,120] \u001b[34m\u001b[1mINFO\u001b[0m: Processing task `finalize_iteration`\n",
      "[2025-10-06 18:54:23,831] \u001b[34m\u001b[1mINFO\u001b[0m: ... searching for obsolete files in /mnt/d/Salvus_project/elastic_model/anisotropic/Project/gradient/INVERSIONS/salvus_inversion/00007\n",
      "[2025-10-06 18:54:24,959] \u001b[34m\u001b[1mINFO\u001b[0m: Freed up 1.8 MB of space.\n",
      "[2025-10-06 18:54:24,960] \u001b[34m\u001b[1mINFO\u001b[0m: Successfully completed iteration #7.\n",
      "[2025-10-06 18:54:25,051] \u001b[34m\u001b[1mINFO\u001b[0m: Adding new iteration #8.\n",
      "[2025-10-06 18:54:25,667] \u001b[34m\u001b[1mINFO\u001b[0m: Resuming iteration #8.\n",
      "\n",
      "[2025-10-06 18:54:25,676] \u001b[34m\u001b[1mINFO\u001b[0m: 1 new tasks have been issued.\n",
      "[2025-10-06 18:54:25,677] \u001b[34m\u001b[1mINFO\u001b[0m: Processing task `gradient`\n",
      "[2025-10-06 18:54:26,841] \u001b[34m\u001b[1mINFO\u001b[0m: Submitting job ...\n",
      "[2025-10-06 18:54:26,971] \u001b[34m\u001b[1mINFO\u001b[0m: Launched adjoint simulations for 1 events. Please check again to see if they are finished.\n",
      "[2025-10-06 18:54:26,972] \u001b[34m\u001b[1mINFO\u001b[0m: Some tasks of iteration #8 are still running. Please check again later.\n",
      "[2025-10-06 18:54:38,081] \u001b[34m\u001b[1mINFO\u001b[0m: Processing task `gradient`\n",
      "[2025-10-06 18:54:39,863] \u001b[34m\u001b[1mINFO\u001b[0m: \u001b[1m\n",
      "Iteration 8: Number of events: 1\t chi = 0.00019823409093078226\t ||g|| = 0.0002460326677004786\n",
      "pred = -0.0001497324847150594\tared = -0.0001473026495659724\tnorm_update = 0.3588990293713951\ttr_radius = 1.700487246529756\u001b[0m\n",
      "[2025-10-06 18:54:40,307] \u001b[34m\u001b[1mINFO\u001b[0m: 1 new tasks have been issued.\n",
      "[2025-10-06 18:54:40,308] \u001b[34m\u001b[1mINFO\u001b[0m: Processing task `misfit`\n",
      "[2025-10-06 18:54:40,742] \u001b[34m\u001b[1mINFO\u001b[0m: Submitting job ...\n",
      "[2025-10-06 18:54:40,941] \u001b[34m\u001b[1mINFO\u001b[0m: Launched simulations for 1 events. Please check again to see if they are finished.\n",
      "[2025-10-06 18:54:40,942] \u001b[34m\u001b[1mINFO\u001b[0m: Some tasks of iteration #8 are still running. Please check again later.\n",
      "[2025-10-06 18:54:51,327] \u001b[34m\u001b[1mINFO\u001b[0m: Processing task `misfit`\n",
      "[2025-10-06 18:54:52,196] \u001b[34m\u001b[1mINFO\u001b[0m: \n",
      "old misfit control group: 0.00019823409093078226\n",
      "new misfit control group: 0.0001545808045193553\n",
      "predicted reduction control group: -2.4297702111653052e-05\n",
      "actual reduction control group: -4.365328641142696e-05\n",
      "1 out of 1 event(s) improved the misfit.\n",
      "[2025-10-06 18:54:52,197] \u001b[34m\u001b[1mINFO\u001b[0m: \u001b[32m\n",
      "Model update accepted.\u001b[0m\n",
      "[2025-10-06 18:54:52,198] \u001b[34m\u001b[1mINFO\u001b[0m: 1 new tasks have been issued.\n",
      "[2025-10-06 18:54:52,198] \u001b[34m\u001b[1mINFO\u001b[0m: Processing task `finalize_iteration`\n",
      "[2025-10-06 18:54:52,933] \u001b[34m\u001b[1mINFO\u001b[0m: ... searching for obsolete files in /mnt/d/Salvus_project/elastic_model/anisotropic/Project/gradient/INVERSIONS/salvus_inversion/00008\n",
      "[2025-10-06 18:54:54,065] \u001b[34m\u001b[1mINFO\u001b[0m: Freed up 1.8 MB of space.\n",
      "[2025-10-06 18:54:54,066] \u001b[34m\u001b[1mINFO\u001b[0m: Successfully completed iteration #8.\n",
      "[2025-10-06 18:54:54,166] \u001b[34m\u001b[1mINFO\u001b[0m: Adding new iteration #9.\n",
      "[2025-10-06 18:54:54,833] \u001b[34m\u001b[1mINFO\u001b[0m: Resuming iteration #9.\n",
      "\n",
      "[2025-10-06 18:54:54,842] \u001b[34m\u001b[1mINFO\u001b[0m: 1 new tasks have been issued.\n",
      "[2025-10-06 18:54:54,843] \u001b[34m\u001b[1mINFO\u001b[0m: Processing task `gradient`\n",
      "[2025-10-06 18:54:55,978] \u001b[34m\u001b[1mINFO\u001b[0m: Submitting job ...\n",
      "[2025-10-06 18:54:56,103] \u001b[34m\u001b[1mINFO\u001b[0m: Launched adjoint simulations for 1 events. Please check again to see if they are finished.\n",
      "[2025-10-06 18:54:56,104] \u001b[34m\u001b[1mINFO\u001b[0m: Some tasks of iteration #9 are still running. Please check again later.\n",
      "[2025-10-06 18:55:07,259] \u001b[34m\u001b[1mINFO\u001b[0m: Processing task `gradient`\n",
      "[2025-10-06 18:55:09,014] \u001b[34m\u001b[1mINFO\u001b[0m: \u001b[1m\n",
      "Iteration 9: Number of events: 1\t chi = 0.0001545808045193553\t ||g|| = 0.00019741828587842934\n",
      "pred = -2.4297702111653052e-05\tared = -4.365328641142696e-05\tnorm_update = 0.20917931493446376\ttr_radius = 0.850243623264878\u001b[0m\n",
      "[2025-10-06 18:55:09,503] \u001b[34m\u001b[1mINFO\u001b[0m: 1 new tasks have been issued.\n",
      "[2025-10-06 18:55:09,504] \u001b[34m\u001b[1mINFO\u001b[0m: Processing task `misfit`\n",
      "[2025-10-06 18:55:09,940] \u001b[34m\u001b[1mINFO\u001b[0m: Submitting job ...\n",
      "[2025-10-06 18:55:10,141] \u001b[34m\u001b[1mINFO\u001b[0m: Launched simulations for 1 events. Please check again to see if they are finished.\n",
      "[2025-10-06 18:55:10,142] \u001b[34m\u001b[1mINFO\u001b[0m: Some tasks of iteration #9 are still running. Please check again later.\n",
      "[2025-10-06 18:55:20,527] \u001b[34m\u001b[1mINFO\u001b[0m: Processing task `misfit`\n",
      "[2025-10-06 18:55:21,381] \u001b[34m\u001b[1mINFO\u001b[0m: \n",
      "old misfit control group: 0.0001545808045193553\n",
      "new misfit control group: 9.437515109311789e-05\n",
      "predicted reduction control group: -3.851018482237123e-05\n",
      "actual reduction control group: -6.0205653426237404e-05\n",
      "1 out of 1 event(s) improved the misfit.\n",
      "[2025-10-06 18:55:21,382] \u001b[34m\u001b[1mINFO\u001b[0m: \u001b[32m\n",
      "Model update accepted.\u001b[0m\n",
      "[2025-10-06 18:55:21,383] \u001b[34m\u001b[1mINFO\u001b[0m: 1 new tasks have been issued.\n",
      "[2025-10-06 18:55:21,383] \u001b[34m\u001b[1mINFO\u001b[0m: Processing task `finalize_iteration`\n",
      "[2025-10-06 18:55:22,170] \u001b[34m\u001b[1mINFO\u001b[0m: ... searching for obsolete files in /mnt/d/Salvus_project/elastic_model/anisotropic/Project/gradient/INVERSIONS/salvus_inversion/00009\n",
      "[2025-10-06 18:55:23,333] \u001b[34m\u001b[1mINFO\u001b[0m: Freed up 1.8 MB of space.\n",
      "[2025-10-06 18:55:23,334] \u001b[34m\u001b[1mINFO\u001b[0m: Successfully completed iteration #9.\n",
      "[2025-10-06 18:55:23,440] \u001b[34m\u001b[1mINFO\u001b[0m: Adding new iteration #10.\n"
     ]
    }
   ],
   "source": [
    "p.add_to_project(\n",
    "    sn.InverseProblemConfiguration(\n",
    "        name=\"salvus_inversion\",\n",
    "        prior_model=\"mesh_homogeneous\",\n",
    "        events=p.events.list()[0],\n",
    "        mapping=sn.Mapping(\n",
    "            scaling=\"absolute\", inversion_parameters=[\"VP\"],region_of_interest=mesh_roi,\n",
    "        ),\n",
    "        # preconditioner=sn.ConstantSmoothing({\"VP\": 0.01, \"RHO\": 0.01}),\n",
    "        method=sn.TrustRegion(initial_trust_region_linf=10.0),\n",
    "        misfit_configuration=\"L2\",\n",
    "        wavefield_compression=sn.WavefieldCompression(\n",
    "            forward_wavefield_sampling_interval=10\n",
    "        ),\n",
    "        job_submission=sn.SiteConfig(\n",
    "            site_name=SALVUS_FLOW_SITE_NAME, ranks_per_job=4\n",
    "        ),\n",
    "    )\n",
    ")\n",
    "# p.inversions.add_iteration(inverse_problem_configuration=\"my_inversion\")\n",
    "# p.inversions.resume(\n",
    "#     inverse_problem_configuration=\"my_inversion\",\n",
    "# )\n",
    "# p.viz.nb.iteration(\n",
    "#     inverse_problem_configuration=\"my_inversion\", iteration_id=0\n",
    "# )\n",
    "\n",
    "for i in range(10):\n",
    "    p.inversions.iterate(\n",
    "        inverse_problem_configuration=\"salvus_inversion\",\n",
    "        timeout_in_seconds=360,\n",
    "        ping_interval_in_seconds=10,\n",
    "        delete_disposable_files=\"all\",\n",
    "    )\n"
   ]
  },
  {
   "cell_type": "code",
   "execution_count": 654,
   "id": "459c0739",
   "metadata": {},
   "outputs": [
    {
     "data": {
      "application/vnd.jupyter.widget-view+json": {
       "model_id": "58d06a9e2e9e4ca2b7aa0d81995f68d8",
       "version_major": 2,
       "version_minor": 0
      },
      "text/plain": [
       "VBox(children=(HTML(value='\\n                              <h3>Inversion dashboard</h3>\\n                     …"
      ]
     },
     "metadata": {},
     "output_type": "display_data"
    }
   ],
   "source": [
    "p.viz.nb.inversion(inverse_problem_configuration=\"salvus_inversion\")"
   ]
  },
  {
   "cell_type": "code",
   "execution_count": null,
   "id": "d7ab11e9",
   "metadata": {},
   "outputs": [],
   "source": []
  }
 ],
 "metadata": {
  "kernelspec": {
   "display_name": "salvus",
   "language": "python",
   "name": "python3"
  },
  "language_info": {
   "codemirror_mode": {
    "name": "ipython",
    "version": 3
   },
   "file_extension": ".py",
   "mimetype": "text/x-python",
   "name": "python",
   "nbconvert_exporter": "python",
   "pygments_lexer": "ipython3",
   "version": "3.11.10"
  }
 },
 "nbformat": 4,
 "nbformat_minor": 5
}
