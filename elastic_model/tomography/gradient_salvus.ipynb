{
 "cells": [
  {
   "cell_type": "code",
   "execution_count": 1,
   "id": "9f82237b",
   "metadata": {},
   "outputs": [
    {
     "name": "stdout",
     "output_type": "stream",
     "text": [
      "--> Server: 'https://l.mondaic.com/licensing_server', User: 'bristol.support', Group: 'UniversityOfBristol'.\n",
      "--> Negotiating 1 license instance(s) for 'SalvusMesh' [license version 1.0.0] for 1 seconds ...\n",
      "--> Success! [Total duration: 0.43 seconds]\n"
     ]
    },
    {
     "name": "stderr",
     "output_type": "stream",
     "text": [
      "WARNING: CPU random generator seem to be failing, disabling hardware random number generation\n",
      "WARNING: RDRND generated: 0xffffffff 0xffffffff 0xffffffff 0xffffffff\n"
     ]
    }
   ],
   "source": [
    "\n",
    "import numpy as np\n",
    "\n",
    "import salvus.namespace as sn\n",
    "import time\n",
    "\n",
    "from my_code.utilities import *\n",
    "from pathlib import Path\n",
    "import os\n",
    "import salvus.flow.simple_config as sc\n",
    "\n",
    "from material_ela_constants.Elastic_Material import Austenite\n",
    "from salvus.material._details import material as md\n",
    "import xarray as xr\n",
    "\n",
    "from datetime import datetime\n",
    "from PIL import Image\n",
    "from salvus.toolbox.helpers.wavefield_output import (\n",
    "    WavefieldOutput,\n",
    "    wavefield_output_to_xarray,\n",
    ")\n",
    "\n",
    "\n",
    "\n",
    "import numpy as np\n",
    "\n",
    "import salvus.namespace as sn\n",
    "\n",
    "import salvus.mesh\n",
    "import salvus.mesh.layered_meshing as lm\n",
    "from my_code.utilities import *\n",
    "from pathlib import Path\n",
    "\n",
    "\n",
    "\n",
    "\n",
    "# Directories in WSL\n",
    "PROJECT_DIR = '/home/oliver/workspace/Salvus/elastic_model/anisotropic/Project'\n",
    "IMAGE_DIR = '/home/oliver/workspace/Salvus/elastic_model/anisotropic/image'\n",
    "DATA_DIR = '/home/oliver/workspace/Salvus/elastic_model/anisotropic/data'\n",
    "\n",
    "\n",
    "# Directories in Windows\n",
    "PROJECT_DIR_WIN = '/mnt/d/Salvus_project/elastic_model/anisotropic/Project'\n",
    "DATA_DIR_WIN = '/mnt/d/Salvus_project/elastic_model/anisotropic/data'\n",
    "IMAGE_DIR_WIN = '/mnt/d/Salvus_project/elastic_model/anisotropic/image'\n",
    "\n",
    "\n",
    "# create dir if it does not exist\n",
    "Path(IMAGE_DIR).mkdir(parents=True, exist_ok=True)\n",
    "Path(DATA_DIR).mkdir(parents=True, exist_ok=True)\n",
    "Path(IMAGE_DIR_WIN).mkdir(parents=True, exist_ok=True)\n",
    "Path(DATA_DIR_WIN).mkdir(parents=True, exist_ok=True)\n",
    "\n",
    "\n",
    "\n",
    "\n",
    "# Salvus site name\n",
    "SALVUS_FLOW_SITE_NAME = 'oliver_wsl'\n",
    "RANKS_PER_JOB = 8\n",
    "\n",
    "# 1 MHz should run on laptops, 4 MHz and higher we recommend GPUs\n",
    "CENTRAL_FREQUENCY = 1e6  # MHz\n",
    "\n",
    "assert CENTRAL_FREQUENCY >= 1e6"
   ]
  },
  {
   "cell_type": "code",
   "execution_count": 2,
   "id": "0e370093",
   "metadata": {},
   "outputs": [
    {
     "data": {
      "application/vnd.jupyter.widget-view+json": {
       "model_id": "8d2a8aff8ad9496d9c329a655a9bf958",
       "version_major": 2,
       "version_minor": 0
      },
      "text/plain": [
       "Accordion(children=(HTML(value='\\n                <head>\\n                <style>\\n                td {\\n     …"
      ]
     },
     "metadata": {},
     "output_type": "display_data"
    },
    {
     "name": "stdout",
     "output_type": "stream",
     "text": [
      "[2025-10-08 21:25:50,829] \u001b[34m\u001b[1mINFO\u001b[0m: Loading project from /mnt/d/Salvus_project/elastic_model/anisotropic/Project/gradient_salvus.\n"
     ]
    }
   ],
   "source": [
    "PROJECT_NAME = 'gradient_salvus'\n",
    "\n",
    "\n",
    "# salvus site \n",
    "SITE_NAME = \"oliver_wsl\"\n",
    "RANKS = 8\n",
    "\n",
    "# number of grains\n",
    "N_GRAIN = 5\n",
    "\n",
    "# center frequency \n",
    "CENTRAL_FREQUENCY = 1e6  # MHz\n",
    "# CENTRAL_FREQUENCY = 3e6  # MHz\n",
    "\n",
    "\n",
    "roi_radius = 9e-3\n",
    "\n",
    "n_txs = 32\n",
    "\n",
    "\n",
    "VP = 5000.0\n",
    "VS = 3000.0\n",
    "RHO = 2600.0\n",
    "\n",
    "\n",
    "x0, x1 = 0.0, 0.01\n",
    "y0, y1 = 0.0, 0.01\n",
    "\n",
    "time_ratio = 3\n",
    "end_time = 1e-6 * time_ratio\n",
    "\n",
    "domain = sn.domain.dim2.BoxDomain(x0=x0, x1=x1, y0=y0, y1=y1)\n",
    "\n",
    "p = sn.Project.from_domain(\n",
    "    path=Path(PROJECT_DIR_WIN, PROJECT_NAME), domain=domain, load_if_exists=True\n",
    ")\n",
    "\n",
    "# acoustic material\n",
    "homogeneous_model = lm.LayeredModel(\n",
    "    [\n",
    "        sn.material.elastic.Velocity.from_params(rho=RHO, vp=VP, vs=VS),\n",
    "    ] \n",
    ")\n",
    "\n",
    "\n",
    "homogeneous_model_ab = sn.layered_meshing.MeshingProtocol(\n",
    "    homogeneous_model,\n",
    "    ab=salvus.mesh.simple_mesh.basic_mesh.AbsorbingBoundaryParameters(\n",
    "        free_surface=False,\n",
    "        number_of_wavelengths=1.5,\n",
    "        reference_velocity=5000,\n",
    "        reference_frequency=CENTRAL_FREQUENCY * 2,\n",
    "    ),\n",
    ")\n",
    "\n",
    "mesh_homogeneous = lm.mesh_from_domain(\n",
    "    domain=domain,\n",
    "    model=homogeneous_model_ab,\n",
    "    mesh_resolution=sn.MeshResolution(\n",
    "        reference_frequency=CENTRAL_FREQUENCY * 2, elements_per_wavelength=3, model_order=4\n",
    "    ),\n",
    ")\n"
   ]
  },
  {
   "cell_type": "code",
   "execution_count": 3,
   "id": "d100b309",
   "metadata": {},
   "outputs": [
    {
     "name": "stdout",
     "output_type": "stream",
     "text": [
      "[2025-10-08 21:25:55,607] \u001b[34m\u001b[1mINFO\u001b[0m: Deleting existing `mesh_homogeneous` entity of type `simulation_configuration` ...\n"
     ]
    }
   ],
   "source": [
    "\n",
    "mag_ratio = 1e14\n",
    "\n",
    "\n",
    "src_pos = [(1e-3, 9e-3), (3e-3, 9e-3), (5e-3, 9e-3),(7e-3, 9e-3),(9e-3, 9e-3)]\n",
    "\n",
    "\n",
    "srcs = [sn.simple_config.source.cartesian.VectorPoint2D(\n",
    "        x=s[0], y=s[1], \n",
    "        fx=0, fy=1 * mag_ratio\n",
    "        ) for s in src_pos]\n",
    "\n",
    "fileds = ['displacement']\n",
    "\n",
    "rx_pos = [(1e-3, 1e-3), (3e-3, 1e-3), (5e-3, 1e-3),(7e-3, 1e-3),(9e-3, 1e-3)]\n",
    "# rx_pos = [(0.01, 0.01), (0, 0)]\n",
    "\n",
    "recs = [sn.simple_config.receiver.cartesian.Point2D(\n",
    "        x=rx[0], y=rx[1], \n",
    "        fields=fileds, station_code=f\"{_i:06d}\",\n",
    "        ) for _i, rx in enumerate(rx_pos)]\n",
    "\n",
    "for e in p.events.list():\n",
    "    p.events.delete(e)\n",
    "    \n",
    "p.add_to_project(\n",
    "sn.EventCollection.from_sources(\n",
    "        sources=srcs, receivers=recs, event_name_starting_index=0),\n",
    "        )\n",
    "\n",
    "\n",
    "\n",
    "\n",
    "center_frequency = CENTRAL_FREQUENCY\n",
    "sampling_rate_in_hertz = center_frequency*100\n",
    "\n",
    "\n",
    "end_time = 4e-6\n",
    "wsc = sn.WaveformSimulationConfiguration(start_time_in_seconds=0, end_time_in_seconds=end_time, time_step_in_seconds=1/sampling_rate_in_hertz)\n",
    "\n",
    "\n",
    "\n",
    "ec = sn.EventConfiguration(\n",
    "    waveform_simulation_configuration=wsc,\n",
    "    wavelet=sn.simple_config.stf.Ricker(center_frequency=center_frequency,time_shift_in_seconds=1e-6),\n",
    ")\n",
    "\n",
    "\n",
    "\n",
    "sim_config = sn.UnstructuredMeshSimulationConfiguration(\n",
    "    unstructured_mesh=mesh_homogeneous,\n",
    "    name=\"mesh_homogeneous\",\n",
    "    # Event specific configuration.\n",
    "    event_configuration=ec,\n",
    ")\n",
    "\n",
    "\n",
    "\n",
    "# add simulation configuration to Project\n",
    "p.add_to_project(\n",
    "    sim_config, overwrite=True\n",
    "    )\n",
    "\n",
    "\n"
   ]
  },
  {
   "cell_type": "code",
   "execution_count": 10,
   "id": "a2e69f6e",
   "metadata": {},
   "outputs": [
    {
     "data": {
      "application/vnd.jupyter.widget-view+json": {
       "model_id": "0508337ae5804ef6a8ba0f9438a395c5",
       "version_major": 2,
       "version_minor": 0
      },
      "text/plain": [
       "VBox(children=(HTML(value='\\n            <p><i>This is only a preview. Use ParaView to actually investigate\\n …"
      ]
     },
     "metadata": {},
     "output_type": "display_data"
    },
    {
     "data": {
      "text/plain": [
       "<salvus.flow.simple_config.simulation.waveform.Waveform object at 0x7e0379242210>"
      ]
     },
     "execution_count": 10,
     "metadata": {},
     "output_type": "execute_result"
    }
   ],
   "source": [
    "p.viz.nb.simulation_setup(\n",
    "    simulation_configuration=\"mesh_heterogeneous\", events=p.events.list()\n",
    ")\n",
    "\n"
   ]
  },
  {
   "cell_type": "code",
   "execution_count": 4,
   "id": "2123cee0",
   "metadata": {},
   "outputs": [
    {
     "name": "stdout",
     "output_type": "stream",
     "text": [
      "[2025-10-08 21:26:09,474] \u001b[34m\u001b[1mINFO\u001b[0m: Deleting existing `mesh_heterogeneous` entity of type `simulation_configuration` ...\n"
     ]
    }
   ],
   "source": [
    "# Make a copy to add a layer in between\n",
    "mesh_homogeneous_scatterers = mesh_homogeneous.copy()\n",
    "centroids = mesh_homogeneous_scatterers.get_element_centroid()\n",
    "\n",
    "center = (x1/2, y1/2)\n",
    "\n",
    "# defect_mask = np.linalg.norm(centroids - center, axis=1) < 1e-3\n",
    "defect_mask_x = (centroids[:,0]<= 9e-3) & (centroids[:,0]>= 1e-3)\n",
    "defect_mask_y = (centroids[:,1]<= 6e-3) & (centroids[:,1]>= 4e-3)\n",
    "\n",
    "defect_mask = defect_mask_x & defect_mask_y\n",
    "mesh_homogeneous_scatterers.elemental_fields[\"RHO\"] -= (\n",
    "    defect_mask[:, None] * 0\n",
    ")\n",
    "mesh_homogeneous_scatterers.elemental_fields[\"VP\"] -= (  \n",
    "    defect_mask[:, None] * 1000\n",
    ")\n",
    "\n",
    "# mesh_homogeneous_scatterers.elemental_fields[\"VS\"] += (  \n",
    "#     defect_mask[:, None] * 1000\n",
    "# )\n",
    "\n",
    "\n",
    "sim_config = sn.UnstructuredMeshSimulationConfiguration(\n",
    "    unstructured_mesh=mesh_homogeneous_scatterers,\n",
    "    name=\"mesh_heterogeneous\",\n",
    "    # Event specific configuration.\n",
    "    event_configuration=ec,\n",
    ")\n",
    "\n",
    "# add simulation configuration to Project\n",
    "p.add_to_project(\n",
    "    sim_config, overwrite=True\n",
    "    )\n",
    "\n",
    "\n",
    "\n",
    "# p.viz.nb.simulation_setup(\n",
    "#     simulation_configuration='mesh_heterogeneous',\n",
    "#     events=p.events.list()[0],\n",
    "# )\n",
    "\n",
    "\n"
   ]
  },
  {
   "cell_type": "code",
   "execution_count": 5,
   "id": "96878e78",
   "metadata": {},
   "outputs": [
    {
     "name": "stdout",
     "output_type": "stream",
     "text": [
      "[2025-10-06 21:44:00,098] \u001b[34m\u001b[1mINFO\u001b[0m: Submitting job array with 5 jobs ...\n"
     ]
    },
    {
     "data": {
      "application/vnd.jupyter.widget-view+json": {
       "model_id": "db36d318a07842e4a0fa660dfa587380",
       "version_major": 2,
       "version_minor": 0
      },
      "text/plain": [
       "Initializing Jobs and Uploading Files for Individual Jobs:   0%|          | 0/5 [00:00<?, ?job/s]"
      ]
     },
     "metadata": {},
     "output_type": "display_data"
    },
    {
     "name": "stdout",
     "output_type": "stream",
     "text": [
      "\n"
     ]
    },
    {
     "data": {
      "text/plain": [
       "5"
      ]
     },
     "execution_count": 5,
     "metadata": {},
     "output_type": "execute_result"
    }
   ],
   "source": [
    "p.simulations.launch(\n",
    "    simulation_configuration=\"mesh_heterogeneous\",\n",
    "    events=p.events.list(),\n",
    "    site_name=SALVUS_FLOW_SITE_NAME,\n",
    "    ranks_per_job=8,\n",
    ")\n",
    "\n",
    "# p.simulations.query(block=True)\n"
   ]
  },
  {
   "cell_type": "code",
   "execution_count": 6,
   "id": "abc88565",
   "metadata": {},
   "outputs": [],
   "source": [
    "import time\n",
    "\n",
    "p.add_to_project(\n",
    "    sn.MisfitConfiguration(\n",
    "        name=\"L2\",\n",
    "        observed_data=\"mesh_heterogeneous\",\n",
    "        misfit_function=\"L2\",\n",
    "        receiver_field=fileds[0],\n",
    "    )\n",
    ")\n",
    "\n",
    "\n",
    "# while not p.actions.inversion.compute_misfits(\n",
    "#     simulation_configuration=\"initial_model\", \n",
    "#     misfit_configuration=\"L2\", \n",
    "#     events=p.events.list(),\n",
    "#     site_name=SALVUS_FLOW_SITE_NAME,\n",
    "#     ranks_per_job = 4\n",
    "# ): time.sleep(10.0)\n",
    "\n",
    "\n",
    "# p.actions.inversion.compute_misfits(\n",
    "#     simulation_configuration=\"initial_model\", \n",
    "#     misfit_configuration=\"L2\", \n",
    "#     events=p.events.list(),\n",
    "#     site_name=SALVUS_FLOW_SITE_NAME,\n",
    "#     ranks_per_job = 4\n",
    "# )"
   ]
  },
  {
   "cell_type": "code",
   "execution_count": null,
   "id": "980c9008",
   "metadata": {},
   "outputs": [
    {
     "ename": "RuntimeError",
     "evalue": "Querying process 8050 failed with exit code 1.\nstderr: \n\nstdout: \nyour 131072x1 screen size is bogus. expect trouble",
     "output_type": "error",
     "traceback": [
      "\u001b[0;31m---------------------------------------------------------------------------\u001b[0m",
      "\u001b[0;31mRuntimeError\u001b[0m                              Traceback (most recent call last)",
      "Cell \u001b[0;32mIn[20], line 4\u001b[0m\n\u001b[1;32m      1\u001b[0m \u001b[38;5;28;01mimport\u001b[39;00m \u001b[38;5;21;01mmatplotlib\u001b[39;00m\n\u001b[1;32m      2\u001b[0m matplotlib\u001b[38;5;241m.\u001b[39muse(\u001b[38;5;124m\"\u001b[39m\u001b[38;5;124mAgg\u001b[39m\u001b[38;5;124m\"\u001b[39m)\n\u001b[0;32m----> 4\u001b[0m \u001b[38;5;28;01mwhile\u001b[39;00m \u001b[38;5;129;01mnot\u001b[39;00m \u001b[43mp\u001b[49m\u001b[38;5;241;43m.\u001b[39;49m\u001b[43mactions\u001b[49m\u001b[38;5;241;43m.\u001b[39;49m\u001b[43minversion\u001b[49m\u001b[38;5;241;43m.\u001b[39;49m\u001b[43mcompute_gradients\u001b[49m\u001b[43m(\u001b[49m\n\u001b[1;32m      5\u001b[0m \u001b[43m    \u001b[49m\u001b[43msimulation_configuration\u001b[49m\u001b[38;5;241;43m=\u001b[39;49m\u001b[38;5;124;43m\"\u001b[39;49m\u001b[38;5;124;43mmesh_homogeneous\u001b[39;49m\u001b[38;5;124;43m\"\u001b[39;49m\u001b[43m,\u001b[49m\n\u001b[1;32m      6\u001b[0m \u001b[43m    \u001b[49m\u001b[43mmisfit_configuration\u001b[49m\u001b[38;5;241;43m=\u001b[39;49m\u001b[38;5;124;43m\"\u001b[39;49m\u001b[38;5;124;43mL2\u001b[39;49m\u001b[38;5;124;43m\"\u001b[39;49m\u001b[43m,\u001b[49m\n\u001b[1;32m      7\u001b[0m \u001b[43m    \u001b[49m\u001b[43mwavefield_compression\u001b[49m\u001b[38;5;241;43m=\u001b[39;49m\u001b[43msn\u001b[49m\u001b[38;5;241;43m.\u001b[39;49m\u001b[43mWavefieldCompression\u001b[49m\u001b[43m(\u001b[49m\n\u001b[1;32m      8\u001b[0m \u001b[43m        \u001b[49m\u001b[43mforward_wavefield_sampling_interval\u001b[49m\u001b[38;5;241;43m=\u001b[39;49m\u001b[38;5;241;43m10\u001b[39;49m\n\u001b[1;32m      9\u001b[0m \u001b[43m    \u001b[49m\u001b[43m)\u001b[49m\u001b[43m,\u001b[49m\n\u001b[1;32m     10\u001b[0m \u001b[43m    \u001b[49m\u001b[43mevents\u001b[49m\u001b[38;5;241;43m=\u001b[39;49m\u001b[43mp\u001b[49m\u001b[38;5;241;43m.\u001b[39;49m\u001b[43mevents\u001b[49m\u001b[38;5;241;43m.\u001b[39;49m\u001b[43mlist\u001b[49m\u001b[43m(\u001b[49m\u001b[43m)\u001b[49m\u001b[43m,\u001b[49m\n\u001b[1;32m     11\u001b[0m \u001b[43m    \u001b[49m\u001b[43msite_name\u001b[49m\u001b[38;5;241;43m=\u001b[39;49m\u001b[43mSALVUS_FLOW_SITE_NAME\u001b[49m\u001b[43m,\u001b[49m\n\u001b[1;32m     12\u001b[0m \u001b[43m    \u001b[49m\u001b[43mranks_per_job\u001b[49m\u001b[38;5;241;43m=\u001b[39;49m\u001b[38;5;241;43m4\u001b[39;49m\u001b[43m,\u001b[49m\n\u001b[1;32m     13\u001b[0m \u001b[43m)\u001b[49m: time\u001b[38;5;241m.\u001b[39msleep(\u001b[38;5;241m10.0\u001b[39m)\n\u001b[1;32m     17\u001b[0m p\u001b[38;5;241m.\u001b[39mviz\u001b[38;5;241m.\u001b[39mnb\u001b[38;5;241m.\u001b[39mgradients(\n\u001b[1;32m     18\u001b[0m     simulation_configuration\u001b[38;5;241m=\u001b[39m\u001b[38;5;124m\"\u001b[39m\u001b[38;5;124mmesh_homogeneous\u001b[39m\u001b[38;5;124m\"\u001b[39m,\n\u001b[1;32m     19\u001b[0m     misfit_configuration\u001b[38;5;241m=\u001b[39m\u001b[38;5;124m\"\u001b[39m\u001b[38;5;124mL2\u001b[39m\u001b[38;5;124m\"\u001b[39m,\n\u001b[0;32m   (...)\u001b[0m\n\u001b[1;32m     23\u001b[0m     events\u001b[38;5;241m=\u001b[39mp\u001b[38;5;241m.\u001b[39mevents\u001b[38;5;241m.\u001b[39mlist(),\n\u001b[1;32m     24\u001b[0m )\n",
      "File \u001b[0;32msalvus/project/components/action/inversion/inversion_action_component.py:306\u001b[0m, in \u001b[0;36msalvus.project.components.action.inversion.inversion_action_component.InversionActionComponent.compute_gradients\u001b[0;34m()\u001b[0m\n",
      "File \u001b[0;32msalvus/project/components/misfit_component.py:363\u001b[0m, in \u001b[0;36msalvus.project.components.misfit_component.MisfitComponent._check_if_gradient_exists\u001b[0;34m()\u001b[0m\n",
      "File \u001b[0;32msalvus/project/components/simulation_component.py:3443\u001b[0m, in \u001b[0;36msalvus.project.components.simulation_component.SimulationComponent._get_hashes_for_adjoint_simulation_and_events\u001b[0;34m()\u001b[0m\n",
      "File \u001b[0;32msalvus/project/components/waveform_component.py:752\u001b[0m, in \u001b[0;36msalvus.project.components.waveform_component.WaveformComponent.get\u001b[0;34m()\u001b[0m\n",
      "File \u001b[0;32msalvus/project/components/waveform_component.py:540\u001b[0m, in \u001b[0;36msalvus.project.components.waveform_component.WaveformComponent._get_synthetic_data\u001b[0;34m()\u001b[0m\n",
      "File \u001b[0;32msalvus/project/components/simulation_component.py:2529\u001b[0m, in \u001b[0;36msalvus.project.components.simulation_component.SimulationComponent._query\u001b[0;34m()\u001b[0m\n",
      "File \u001b[0;32msalvus/flow/executors/salvus_job_array.py:838\u001b[0m, in \u001b[0;36msalvus.flow.executors.salvus_job_array.SalvusJobArray.update_status\u001b[0;34m()\u001b[0m\n",
      "File \u001b[0;32msalvus/flow/executors/implementations/ssh.py:734\u001b[0m, in \u001b[0;36msalvus.flow.executors.implementations.ssh.SSHExecutor.get_job_status\u001b[0;34m()\u001b[0m\n",
      "File \u001b[0;32msalvus/flow/executors/implementations/ssh.py:703\u001b[0m, in \u001b[0;36msalvus.flow.executors.implementations.ssh.SSHExecutor._is_running\u001b[0;34m()\u001b[0m\n",
      "\u001b[0;31mRuntimeError\u001b[0m: Querying process 8050 failed with exit code 1.\nstderr: \n\nstdout: \nyour 131072x1 screen size is bogus. expect trouble"
     ]
    }
   ],
   "source": [
    "\n",
    "\n",
    "# while not p.actions.inversion.compute_gradients(\n",
    "#     simulation_configuration=\"mesh_homogeneous\",\n",
    "#     misfit_configuration=\"L2\",\n",
    "#     wavefield_compression=sn.WavefieldCompression(\n",
    "#         forward_wavefield_sampling_interval=10\n",
    "#     ),\n",
    "#     events=p.events.list(),\n",
    "#     site_name=SALVUS_FLOW_SITE_NAME,\n",
    "#     ranks_per_job=4,\n",
    "# ): time.sleep(10.0)\n",
    "\n",
    "\n",
    "\n",
    "# p.viz.nb.gradients(\n",
    "#     simulation_configuration=\"mesh_homogeneous\",\n",
    "#     misfit_configuration=\"L2\",\n",
    "#     wavefield_compression=sn.WavefieldCompression(\n",
    "#         forward_wavefield_sampling_interval=10\n",
    "#     ),\n",
    "#     events=p.events.list(),\n",
    "# )"
   ]
  },
  {
   "cell_type": "code",
   "execution_count": null,
   "id": "6a7f2391",
   "metadata": {},
   "outputs": [],
   "source": [
    "sampling_rate_in_hertz = center_frequency*100\n",
    "\n",
    "ed = p.waveforms.get(data_name=\"mesh_heterogeneous\", events=p.events.list()[0])[0]\n",
    "data_true = ed.get_waveform_data_xarray(receiver_field='displacement')\n",
    "time = data_true.time\n",
    "ed = p.waveforms.get(data_name=\"mesh_homogeneous\", events=p.events.list()[0])[0]\n",
    "data_init = ed.get_waveform_data_xarray(receiver_field='displacement')\n",
    "time = data_init.time\n"
   ]
  },
  {
   "cell_type": "code",
   "execution_count": null,
   "id": "9ee0b287",
   "metadata": {},
   "outputs": [],
   "source": [
    "id = 6\n",
    "f_adj_0 =  (data_true[id] - data_init[id]) /data_true.max()\n",
    "\n",
    "fig, axs = plt.subplots(1, 3, figsize=(20, 6), dpi=100)\n",
    "\n",
    "\n",
    "axs[0].plot(time*1e6, data_true[id]/data_true.max())\n",
    "axs[0].plot(time*1e6, data_init[id]/data_true.max())\n",
    "axs[0].legend([r'$u_{obs}$', 'u'])\n",
    "axs[0].set_xlabel('time (us)')\n",
    "axs[0].set_ylabel(r'displacement $u_2$')\n",
    "axs[0].set_title('observed and synthetic data')\n",
    "\n",
    "\n",
    "axs[1].plot(time*1e6, f_adj_0, color='gray',linestyle='--')\n",
    "axs[1].set_xlabel('time (us)')\n",
    "axs[1].set_ylabel(r'displacement $u_2$')\n",
    "axs[1].set_title('residuals')\n",
    "\n",
    "\n",
    "axs[2].plot(time*1e6, -np.flip(f_adj_0), color='gray',linestyle='--')\n",
    "axs[2].set_xlabel('time (us)')\n",
    "axs[2].set_ylabel(r'displacement $u_2$')\n",
    "axs[2].set_title('time-reversed residuals')\n",
    "\n",
    "plt.savefig(Path(IMAGE_DIR_WIN, PROJECT_NAME + fr'_adjoint_source.png'))\n"
   ]
  },
  {
   "cell_type": "code",
   "execution_count": 7,
   "id": "a820f7b6",
   "metadata": {},
   "outputs": [
    {
     "data": {
      "application/vnd.jupyter.widget-view+json": {
       "model_id": "6e4f9569db60434aa2bd040ef62212f3",
       "version_major": 2,
       "version_minor": 0
      },
      "text/plain": [
       "VBox(children=(HTML(value='\\n            <p><i>This is only a preview. Use ParaView to actually investigate\\n …"
      ]
     },
     "metadata": {},
     "output_type": "display_data"
    },
    {
     "data": {
      "text/plain": [
       "<salvus.mesh.data_structures.unstructured_mesh.unstructured_mesh.UnstructuredMesh object at 0x70b5d047a890>"
      ]
     },
     "execution_count": 7,
     "metadata": {},
     "output_type": "execute_result"
    }
   ],
   "source": [
    "# region of interest for inversion\n",
    "centroids = mesh_homogeneous_scatterers.get_element_centroid()\n",
    "# roi = np.linalg.norm(centroids - np.array([x1/2, y1/2]), axis=1) < roi_radius\n",
    "defect_mask_x = (centroids[:,0]<= 9e-3) & (centroids[:,0]>= 1e-3)\n",
    "defect_mask_y = (centroids[:,1]<= 7e-3) & (centroids[:,1]>= 3e-3)\n",
    "roi = defect_mask_x & defect_mask_y\n",
    "\n",
    "\n",
    "mesh_roi = mesh_homogeneous_scatterers.copy()\n",
    "fields = [field for field in mesh_roi.elemental_fields]\n",
    "for field in fields:\n",
    "    mesh_roi.elemental_fields.pop(field)\n",
    "mesh_roi.attach_field(\n",
    "    \"region_of_interest\",\n",
    "    np.broadcast_to(roi[:, None], mesh_roi.connectivity.shape),\n",
    ")\n",
    "\n",
    "\n",
    "\n",
    "mesh_roi"
   ]
  },
  {
   "cell_type": "code",
   "execution_count": 10,
   "id": "cfd9bd19",
   "metadata": {},
   "outputs": [
    {
     "name": "stdout",
     "output_type": "stream",
     "text": [
      "[2025-10-06 21:48:28,959] \u001b[34m\u001b[1mINFO\u001b[0m: The project already contains an inverse problem configuration with name `salvus_inversion` and the same input arguments. Nothing will be done.\n",
      "[2025-10-06 21:48:29,006] \u001b[34m\u001b[1mINFO\u001b[0m: Resuming iteration #0.\n",
      "\n",
      "[2025-10-06 21:48:29,015] \u001b[34m\u001b[1mINFO\u001b[0m: 1 new tasks have been issued.\n",
      "[2025-10-06 21:48:29,015] \u001b[34m\u001b[1mINFO\u001b[0m: Processing task `misfit_and_gradient`\n"
     ]
    },
    {
     "ename": "RuntimeError",
     "evalue": "Querying process 1202 failed with exit code 1.\nstderr: \n\nstdout: \nyour 131072x1 screen size is bogus. expect trouble",
     "output_type": "error",
     "traceback": [
      "\u001b[0;31m---------------------------------------------------------------------------\u001b[0m",
      "\u001b[0;31mRuntimeError\u001b[0m                              Traceback (most recent call last)",
      "Cell \u001b[0;32mIn[10], line 29\u001b[0m\n\u001b[1;32m     20\u001b[0m \u001b[38;5;66;03m# p.inversions.add_iteration(inverse_problem_configuration=\"my_inversion\")\u001b[39;00m\n\u001b[1;32m     21\u001b[0m \u001b[38;5;66;03m# p.inversions.resume(\u001b[39;00m\n\u001b[1;32m     22\u001b[0m \u001b[38;5;66;03m#     inverse_problem_configuration=\"my_inversion\",\u001b[39;00m\n\u001b[0;32m   (...)\u001b[0m\n\u001b[1;32m     25\u001b[0m \u001b[38;5;66;03m#     inverse_problem_configuration=\"my_inversion\", iteration_id=0\u001b[39;00m\n\u001b[1;32m     26\u001b[0m \u001b[38;5;66;03m# )\u001b[39;00m\n\u001b[1;32m     28\u001b[0m \u001b[38;5;28;01mfor\u001b[39;00m i \u001b[38;5;129;01min\u001b[39;00m \u001b[38;5;28mrange\u001b[39m(\u001b[38;5;241m10\u001b[39m):\n\u001b[0;32m---> 29\u001b[0m     \u001b[43mp\u001b[49m\u001b[38;5;241;43m.\u001b[39;49m\u001b[43minversions\u001b[49m\u001b[38;5;241;43m.\u001b[39;49m\u001b[43miterate\u001b[49m\u001b[43m(\u001b[49m\n\u001b[1;32m     30\u001b[0m \u001b[43m        \u001b[49m\u001b[43minverse_problem_configuration\u001b[49m\u001b[38;5;241;43m=\u001b[39;49m\u001b[38;5;124;43m\"\u001b[39;49m\u001b[38;5;124;43msalvus_inversion\u001b[39;49m\u001b[38;5;124;43m\"\u001b[39;49m\u001b[43m,\u001b[49m\n\u001b[1;32m     31\u001b[0m \u001b[43m        \u001b[49m\u001b[43mtimeout_in_seconds\u001b[49m\u001b[38;5;241;43m=\u001b[39;49m\u001b[38;5;241;43m360\u001b[39;49m\u001b[43m,\u001b[49m\n\u001b[1;32m     32\u001b[0m \u001b[43m        \u001b[49m\u001b[43mping_interval_in_seconds\u001b[49m\u001b[38;5;241;43m=\u001b[39;49m\u001b[38;5;241;43m10\u001b[39;49m\u001b[43m,\u001b[49m\n\u001b[1;32m     33\u001b[0m \u001b[43m        \u001b[49m\u001b[43mdelete_disposable_files\u001b[49m\u001b[38;5;241;43m=\u001b[39;49m\u001b[38;5;124;43m\"\u001b[39;49m\u001b[38;5;124;43mall\u001b[39;49m\u001b[38;5;124;43m\"\u001b[39;49m\u001b[43m,\u001b[49m\n\u001b[1;32m     34\u001b[0m \u001b[43m    \u001b[49m\u001b[43m)\u001b[49m\n",
      "File \u001b[0;32msalvus/project/components/inversion_component.py:2407\u001b[0m, in \u001b[0;36msalvus.project.components.inversion_component.InversionComponent.iterate\u001b[0;34m()\u001b[0m\n",
      "File \u001b[0;32msalvus/project/components/inversion_component.py:2204\u001b[0m, in \u001b[0;36msalvus.project.components.inversion_component.InversionComponent.resume\u001b[0;34m()\u001b[0m\n",
      "File \u001b[0;32msalvus/project/components/inversion_component.py:1945\u001b[0m, in \u001b[0;36msalvus.project.components.inversion_component.InversionComponent._process_task\u001b[0;34m()\u001b[0m\n",
      "File \u001b[0;32msalvus/project/components/inversion_component.py:1409\u001b[0m, in \u001b[0;36msalvus.project.components.inversion_component.InversionComponent._process_task_compute_misfit_and_gradient\u001b[0;34m()\u001b[0m\n",
      "File \u001b[0;32msalvus/project/components/misfit_component.py:363\u001b[0m, in \u001b[0;36msalvus.project.components.misfit_component.MisfitComponent._check_if_gradient_exists\u001b[0;34m()\u001b[0m\n",
      "File \u001b[0;32msalvus/project/components/simulation_component.py:3443\u001b[0m, in \u001b[0;36msalvus.project.components.simulation_component.SimulationComponent._get_hashes_for_adjoint_simulation_and_events\u001b[0;34m()\u001b[0m\n",
      "File \u001b[0;32msalvus/project/components/waveform_component.py:752\u001b[0m, in \u001b[0;36msalvus.project.components.waveform_component.WaveformComponent.get\u001b[0;34m()\u001b[0m\n",
      "File \u001b[0;32msalvus/project/components/waveform_component.py:540\u001b[0m, in \u001b[0;36msalvus.project.components.waveform_component.WaveformComponent._get_synthetic_data\u001b[0;34m()\u001b[0m\n",
      "File \u001b[0;32msalvus/project/components/simulation_component.py:2529\u001b[0m, in \u001b[0;36msalvus.project.components.simulation_component.SimulationComponent._query\u001b[0;34m()\u001b[0m\n",
      "File \u001b[0;32msalvus/flow/executors/salvus_job_array.py:838\u001b[0m, in \u001b[0;36msalvus.flow.executors.salvus_job_array.SalvusJobArray.update_status\u001b[0;34m()\u001b[0m\n",
      "File \u001b[0;32msalvus/flow/executors/implementations/ssh.py:734\u001b[0m, in \u001b[0;36msalvus.flow.executors.implementations.ssh.SSHExecutor.get_job_status\u001b[0;34m()\u001b[0m\n",
      "File \u001b[0;32msalvus/flow/executors/implementations/ssh.py:703\u001b[0m, in \u001b[0;36msalvus.flow.executors.implementations.ssh.SSHExecutor._is_running\u001b[0;34m()\u001b[0m\n",
      "\u001b[0;31mRuntimeError\u001b[0m: Querying process 1202 failed with exit code 1.\nstderr: \n\nstdout: \nyour 131072x1 screen size is bogus. expect trouble"
     ]
    }
   ],
   "source": [
    "p.add_to_project(\n",
    "    sn.InverseProblemConfiguration(\n",
    "        name=\"salvus_inversion\",\n",
    "        prior_model=\"mesh_homogeneous\",\n",
    "        events=p.events.list()[0],\n",
    "        mapping=sn.Mapping(\n",
    "            scaling=\"absolute\", inversion_parameters=[\"VP\"],region_of_interest=mesh_roi,\n",
    "        ),\n",
    "        # preconditioner=sn.ConstantSmoothing({\"VP\": 0.01, \"RHO\": 0.01}),\n",
    "        method=sn.TrustRegion(initial_trust_region_linf=100.0),\n",
    "        misfit_configuration=\"L2\",\n",
    "        wavefield_compression=sn.WavefieldCompression(\n",
    "            forward_wavefield_sampling_interval=10\n",
    "        ),\n",
    "        job_submission=sn.SiteConfig(\n",
    "            site_name=SALVUS_FLOW_SITE_NAME, ranks_per_job=4\n",
    "        ),\n",
    "    )\n",
    ")\n",
    "# p.inversions.add_iteration(inverse_problem_configuration=\"my_inversion\")\n",
    "# p.inversions.resume(\n",
    "#     inverse_problem_configuration=\"my_inversion\",\n",
    "# )\n",
    "# p.viz.nb.iteration(\n",
    "#     inverse_problem_configuration=\"my_inversion\", iteration_id=0\n",
    "# )\n",
    "\n",
    "for i in range(10):\n",
    "    p.inversions.iterate(\n",
    "        inverse_problem_configuration=\"salvus_inversion\",\n",
    "        timeout_in_seconds=360,\n",
    "        ping_interval_in_seconds=10,\n",
    "        delete_disposable_files=\"all\",\n",
    "    )\n"
   ]
  },
  {
   "cell_type": "code",
   "execution_count": null,
   "id": "2c57db20",
   "metadata": {},
   "outputs": [],
   "source": []
  },
  {
   "cell_type": "code",
   "execution_count": 6,
   "id": "459c0739",
   "metadata": {},
   "outputs": [
    {
     "data": {
      "application/vnd.jupyter.widget-view+json": {
       "model_id": "e50c96b16731435e9c4d6719fb84394e",
       "version_major": 2,
       "version_minor": 0
      },
      "text/plain": [
       "VBox(children=(HTML(value='\\n                              <h3>Inversion dashboard</h3>\\n                     …"
      ]
     },
     "metadata": {},
     "output_type": "display_data"
    }
   ],
   "source": [
    "p.viz.nb.inversion(inverse_problem_configuration=\"salvus_inversion\")"
   ]
  },
  {
   "cell_type": "code",
   "execution_count": 7,
   "id": "d7ab11e9",
   "metadata": {},
   "outputs": [
    {
     "data": {
      "application/vnd.jupyter.widget-view+json": {
       "model_id": "4864cafdaec34e13a32e69919f5ebbce",
       "version_major": 2,
       "version_minor": 0
      },
      "text/plain": [
       "VBox(children=(HTML(value='\\n            <p><i>This is only a preview. Use ParaView to actually investigate\\n …"
      ]
     },
     "metadata": {},
     "output_type": "display_data"
    },
    {
     "data": {
      "text/plain": [
       "<salvus.mesh.data_structures.unstructured_mesh.unstructured_mesh.UnstructuredMesh object at 0x7e0385145b90>"
      ]
     },
     "execution_count": 7,
     "metadata": {},
     "output_type": "execute_result"
    }
   ],
   "source": [
    "mesh_homogeneous_scatterers"
   ]
  }
 ],
 "metadata": {
  "kernelspec": {
   "display_name": "salvus",
   "language": "python",
   "name": "python3"
  },
  "language_info": {
   "codemirror_mode": {
    "name": "ipython",
    "version": 3
   },
   "file_extension": ".py",
   "mimetype": "text/x-python",
   "name": "python",
   "nbconvert_exporter": "python",
   "pygments_lexer": "ipython3",
   "version": "3.11.10"
  }
 },
 "nbformat": 4,
 "nbformat_minor": 5
}
