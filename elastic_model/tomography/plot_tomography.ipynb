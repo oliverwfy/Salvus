{
 "cells": [
  {
   "cell_type": "code",
   "execution_count": 34,
   "id": "18605132",
   "metadata": {},
   "outputs": [
    {
     "data": {
      "application/vnd.jupyter.widget-view+json": {
       "model_id": "ea27cd2f286a4e6b814e99f2b5caadca",
       "version_major": 2,
       "version_minor": 0
      },
      "text/plain": [
       "Accordion(children=(HTML(value='\\n                <head>\\n                <style>\\n                td {\\n     …"
      ]
     },
     "metadata": {},
     "output_type": "display_data"
    }
   ],
   "source": [
    "\n",
    "import numpy as np\n",
    "\n",
    "import salvus.namespace as sn\n",
    "\n",
    "import salvus.mesh\n",
    "import salvus.mesh.layered_meshing as lm\n",
    "from my_code.utilities import *\n",
    "from pathlib import Path\n",
    "\n",
    "\n",
    "# Directories in WSL\n",
    "PROJECT_DIR = '/home/oliver/workspace/Salvus/elastic_model/anisotropic/Project'\n",
    "IMAGE_DIR = '/home/oliver/workspace/Salvus/elastic_model/anisotropic/image'\n",
    "DATA_DIR = '/home/oliver/workspace/Salvus/elastic_model/anisotropic/data'\n",
    "\n",
    "\n",
    "# Directories in Windows\n",
    "PROJECT_DIR_WIN = '/mnt/d/Salvus_project/elastic_model/anisotropic/Project'\n",
    "DATA_DIR_WIN = '/mnt/d/Salvus_project/elastic_model/anisotropic/data'\n",
    "IMAGE_DIR_WIN = '/mnt/d/Salvus_project/elastic_model/anisotropic/image'\n",
    "\n",
    "PROJECT_NAME = f\"tomography_heterogeneous_2\"\n",
    "\n",
    "\n",
    "p =  sn.Project(path=Path(PROJECT_DIR_WIN, PROJECT_NAME))"
   ]
  },
  {
   "cell_type": "code",
   "execution_count": 35,
   "id": "984ec3c7",
   "metadata": {},
   "outputs": [
    {
     "data": {
      "application/vnd.jupyter.widget-view+json": {
       "model_id": "64d40497b3f24a0f8d5cd9e3e80d5775",
       "version_major": 2,
       "version_minor": 0
      },
      "text/plain": [
       "VBox(children=(HTML(value='\\n                              <h3>Inversion dashboard</h3>\\n                     …"
      ]
     },
     "metadata": {},
     "output_type": "display_data"
    }
   ],
   "source": [
    "p.viz.nb.inversion(inverse_problem_configuration=\"inversion_L2\")"
   ]
  },
  {
   "cell_type": "code",
   "execution_count": 37,
   "id": "11a3b463",
   "metadata": {},
   "outputs": [],
   "source": [
    "mesh = p.inversions.get_model(inverse_problem_configuration=\"inversion_L2\", iteration_id=9)\n"
   ]
  },
  {
   "cell_type": "code",
   "execution_count": 45,
   "id": "3c8c2c94",
   "metadata": {},
   "outputs": [],
   "source": [
    "mesh.attach_field('v_p', mesh.element_nodal_fields['VP']*5000+5000)"
   ]
  },
  {
   "cell_type": "code",
   "execution_count": 46,
   "id": "7298aea2",
   "metadata": {},
   "outputs": [
    {
     "data": {
      "application/vnd.jupyter.widget-view+json": {
       "model_id": "0b70143466fa426b9f7ee687cb05980b",
       "version_major": 2,
       "version_minor": 0
      },
      "text/plain": [
       "VBox(children=(HTML(value='\\n            <p><i>This is only a preview. Use ParaView to actually investigate\\n …"
      ]
     },
     "metadata": {},
     "output_type": "display_data"
    },
    {
     "data": {
      "text/plain": [
       "<salvus.mesh.data_structures.unstructured_mesh.unstructured_mesh.UnstructuredMesh object at 0x73427e063e10>"
      ]
     },
     "execution_count": 46,
     "metadata": {},
     "output_type": "execute_result"
    }
   ],
   "source": [
    "mesh"
   ]
  },
  {
   "cell_type": "code",
   "execution_count": 47,
   "id": "1f6e0e49",
   "metadata": {},
   "outputs": [
    {
     "data": {
      "application/vnd.jupyter.widget-view+json": {
       "model_id": "aceac46ecce9455ba32c505706a0e994",
       "version_major": 2,
       "version_minor": 0
      },
      "text/plain": [
       "VBox(children=(HTML(value='\\n            <p><i>This is only a preview. Use ParaView to actually investigate\\n …"
      ]
     },
     "metadata": {},
     "output_type": "display_data"
    },
    {
     "data": {
      "text/plain": [
       "<salvus.flow.simple_config.simulation.waveform.Waveform object at 0x73427dff2e50>"
      ]
     },
     "execution_count": 47,
     "metadata": {},
     "output_type": "execute_result"
    }
   ],
   "source": [
    "p.viz.nb.simulation_setup(\n",
    "    simulation_configuration='sc_mesh_homogeneous_scatters',\n",
    "    events=p.events.list(),\n",
    ")\n"
   ]
  }
 ],
 "metadata": {
  "kernelspec": {
   "display_name": "salvus",
   "language": "python",
   "name": "python3"
  },
  "language_info": {
   "codemirror_mode": {
    "name": "ipython",
    "version": 3
   },
   "file_extension": ".py",
   "mimetype": "text/x-python",
   "name": "python",
   "nbconvert_exporter": "python",
   "pygments_lexer": "ipython3",
   "version": "3.11.10"
  }
 },
 "nbformat": 4,
 "nbformat_minor": 5
}
