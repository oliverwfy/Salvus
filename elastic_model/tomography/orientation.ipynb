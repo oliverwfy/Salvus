{
 "cells": [
  {
   "cell_type": "code",
   "execution_count": 1,
   "id": "9b6de078",
   "metadata": {},
   "outputs": [
    {
     "name": "stdout",
     "output_type": "stream",
     "text": [
      "--> Server: 'https://l.mondaic.com/licensing_server', User: 'bristol.support', Group: 'UniversityOfBristol'.\n",
      "--> Negotiating 1 license instance(s) for 'SalvusMesh' [license version 1.0.0] for 1 seconds ...\n",
      "--> Success! [Total duration: 0.44 seconds]\n"
     ]
    }
   ],
   "source": [
    "import salvus.namespace as sn\n",
    "from salvus.material._details import material as md\n",
    "from material_ela_constants.Elastic_Material import * \n",
    "\n",
    "\n",
    "\n",
    "\n"
   ]
  },
  {
   "cell_type": "code",
   "execution_count": 2,
   "id": "01634d38",
   "metadata": {},
   "outputs": [],
   "source": [
    "matl = Austenite()\n",
    "material_unoriented = sn.material.elastic.hexagonal.TensorComponents.from_params(**matl.VTI_parameters())\n",
    "from salvus.material._details import material as md\n",
    "# Define a default orientation for comparison\n",
    "orientation_of_grains_default = sn.material.orientation.ClockwiseAngle.from_params(angle_in_degrees=0)\n",
    "\n",
    "# Convert the unoriented material with default orientation to solver form for 2D simulations\n",
    "matl_background = md.to_solver_form(material_unoriented.with_orientation(orientation_of_grains_default), ndim=2)\n"
   ]
  },
  {
   "cell_type": "code",
   "execution_count": 3,
   "id": "7ca97361",
   "metadata": {},
   "outputs": [
    {
     "data": {
      "text/html": [
       "salvus.material.elastic.hexagonal._TensorComponents2D\n",
       "<p>\n",
       "  With the following properties:\n",
       "</p>\n",
       "<table>\n",
       "  <thead>\n",
       "    <tr>\n",
       "      <th>Field</th><th>Type</th><th>Value (or range)</th>\n",
       "    </tr>\n",
       "  </thead>\n",
       "  <tbody>\n",
       "   <tr><td>RHO</td><td>constant</td><td>8.1e+03</td></tr>\n",
       "   <tr><td>C11</td><td>constant</td><td>2.7e+11</td></tr>\n",
       "   <tr><td>C12</td><td>constant</td><td>1.1e+11</td></tr>\n",
       "   <tr><td>C13</td><td>constant</td><td>1.2e+10</td></tr>\n",
       "   <tr><td>C22</td><td>constant</td><td>2.7e+11</td></tr>\n",
       "   <tr><td>C23</td><td>constant</td><td>1.2e+10</td></tr>\n",
       "   <tr><td>C33</td><td>constant</td><td>4.8e+10</td></tr>\n",
       "  </tbody>\n",
       "</table>\n"
      ],
      "text/plain": [
       "<IPython.core.display.HTML object>"
      ]
     },
     "metadata": {},
     "output_type": "display_data"
    },
    {
     "data": {
      "text/plain": [
       "salvus.material.elastic.hexagonal._TensorComponents2D"
      ]
     },
     "execution_count": 3,
     "metadata": {},
     "output_type": "execute_result"
    }
   ],
   "source": [
    "orientation_angle = sn.material.orientation.ClockwiseAngle.from_params(angle_in_degrees=np.rad2deg(np.pi/4))\n",
    "\n",
    "matl_orientated = md.to_solver_form(material_unoriented.with_orientation(orientation_angle), ndim=2)\n",
    "matl_orientated"
   ]
  },
  {
   "cell_type": "code",
   "execution_count": 4,
   "id": "8b086e8b",
   "metadata": {},
   "outputs": [
    {
     "data": {
      "text/plain": [
       "array([[2.74675e+11, 1.09875e+11, 1.15250e+10],\n",
       "       [1.09875e+11, 2.74675e+11, 1.15250e+10],\n",
       "       [1.15250e+10, 1.15250e+10, 4.78750e+10]])"
      ]
     },
     "execution_count": 4,
     "metadata": {},
     "output_type": "execute_result"
    }
   ],
   "source": [
    "matl.rotated_tensor(np.pi/4, dim=2)\n"
   ]
  },
  {
   "cell_type": "code",
   "execution_count": null,
   "id": "662a3400",
   "metadata": {},
   "outputs": [],
   "source": [
    "matl.tensor()"
   ]
  },
  {
   "cell_type": "code",
   "execution_count": null,
   "id": "5b8453a2",
   "metadata": {},
   "outputs": [],
   "source": [
    "import numpy as np\n",
    "\n",
    "# example: VTI stiffness in material/principal axes (6x6 Voigt ordering [11,22,33,23,13,12])\n",
    "C = matl.tensor()\n",
    "# fill C with your VTI values:\n",
    "# C[0,0]=C11; C[0,1]=C12; C[0,2]=C13; C[1,1]=C11; C[2,2]=C33...\n",
    "# C[3,3]=C44; C[4,4]=C44; C[5,5]=C66\n",
    "\n",
    "theta = np.pi/4   # tilt angle in radians\n",
    "c = np.cos(theta); s = np.sin(theta)\n",
    "\n",
    "L = np.array([\n",
    "    [c*c, 0,   s*s, 0,     2*c*s, 0],\n",
    "    [0,   1,   0,   0,     0,     0],\n",
    "    [s*s, 0,   c*c, 0,    -2*c*s, 0],\n",
    "    [0,   0,   0,   c,     0,    -s],\n",
    "    [-c*s,0,   c*s, 0,  c*c - s*s, 0],\n",
    "    [0,   0,   0,   s,     0,     c]\n",
    "], dtype=float)\n",
    "\n",
    "C_rot = L.dot(C).dot(L.T)   # rotated stiffness in global axes\n",
    "\n",
    "# Extract 2D xz plane (Voigt indices 0->xx, 2->zz, 4->xz)\n",
    "idx = [0, 2, 4]\n",
    "C2D = C_rot[np.ix_(idx, idx)]\n",
    "\n",
    "# Extract effective constants (Voigt order [11,22,33,23,13,12])\n",
    "C11 = C_rot[0,0]\n",
    "C12 = C_rot[0,1]\n",
    "C13 = C_rot[0,2]\n",
    "C22 = C_rot[1,1]\n",
    "C23 = C_rot[1,2]\n",
    "C33 = C_rot[2,2]\n",
    "C44 = C_rot[3,3]   # corresponds to shear yz\n",
    "C55 = C_rot[4,4]   # corresponds to shear xz\n",
    "C66 = C_rot[5,5]   # corresponds to shear xy\n",
    "\n",
    "print(\"Rotated stiffness constants (Voigt notation):\")\n",
    "print(f\"C11 = {C11:.4e}\")\n",
    "print(f\"C12 = {C12:.4e}\")\n",
    "print(f\"C13 = {C13:.4e}\")\n",
    "print(f\"C22 = {C22:.4e}\")\n",
    "print(f\"C23 = {C23:.4e}\")\n",
    "print(f\"C33 = {C33:.4e}\")\n",
    "print(f\"C44 = {C44:.4e}\")\n",
    "print(f\"C55 = {C55:.4e}\")\n",
    "print(f\"C66 = {C66:.4e}\")\n",
    "\n",
    "print(\"\\nC2D (xx, zz, xz):\\n\", C2D)\n"
   ]
  }
 ],
 "metadata": {
  "kernelspec": {
   "display_name": "salvus",
   "language": "python",
   "name": "python3"
  },
  "language_info": {
   "codemirror_mode": {
    "name": "ipython",
    "version": 3
   },
   "file_extension": ".py",
   "mimetype": "text/x-python",
   "name": "python",
   "nbconvert_exporter": "python",
   "pygments_lexer": "ipython3",
   "version": "3.11.13"
  }
 },
 "nbformat": 4,
 "nbformat_minor": 5
}
