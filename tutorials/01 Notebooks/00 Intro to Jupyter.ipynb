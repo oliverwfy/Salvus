{
 "cells": [
  {
   "cell_type": "markdown",
   "id": "abfb136c-07c2-40f5-b13a-66e58a24da54",
   "metadata": {},
   "source": [
    "SHIFT ENTER: execute and advance\n",
    "CTRL  ENTER: execute and stay"
   ]
  },
  {
   "cell_type": "code",
   "execution_count": 4,
   "id": "02971000-8527-4096-b284-562eb78b3f6a",
   "metadata": {},
   "outputs": [],
   "source": [
    "import numpy as np\n",
    "\n",
    "import matplotlib.pyplot as plt\n",
    "\n",
    "import salvus.namespace as sn"
   ]
  },
  {
   "cell_type": "markdown",
   "id": "a8f5c2e0-41d0-4534-a8fa-d56af1bf66f0",
   "metadata": {},
   "source": [
    "Write a module, write the dot operator, and press TAB for suggestions"
   ]
  },
  {
   "cell_type": "code",
   "execution_count": 6,
   "id": "ed16683b-475a-4feb-8818-f444757c37d0",
   "metadata": {},
   "outputs": [
    {
     "data": {
      "text/plain": [
       "<module 'numpy' from '/Users/larsgebraad/miniforge3/envs/salvus_x86_2024.1.2/lib/python3.11/site-packages/numpy/__init__.py'>"
      ]
     },
     "execution_count": 6,
     "metadata": {},
     "output_type": "execute_result"
    }
   ],
   "source": [
    "np."
   ]
  },
  {
   "cell_type": "code",
   "execution_count": 7,
   "id": "0a3cddca-580e-42b2-9ccb-0cef299b58d2",
   "metadata": {},
   "outputs": [
    {
     "data": {
      "text/plain": [
       "\u001b[0;31mSignature:\u001b[0m       \u001b[0mnp\u001b[0m\u001b[0;34m.\u001b[0m\u001b[0marray_equal\u001b[0m\u001b[0;34m(\u001b[0m\u001b[0ma1\u001b[0m\u001b[0;34m,\u001b[0m \u001b[0ma2\u001b[0m\u001b[0;34m,\u001b[0m \u001b[0mequal_nan\u001b[0m\u001b[0;34m=\u001b[0m\u001b[0;32mFalse\u001b[0m\u001b[0;34m)\u001b[0m\u001b[0;34m\u001b[0m\u001b[0;34m\u001b[0m\u001b[0m\n",
       "\u001b[0;31mCall signature:\u001b[0m  \u001b[0mnp\u001b[0m\u001b[0;34m.\u001b[0m\u001b[0marray_equal\u001b[0m\u001b[0;34m(\u001b[0m\u001b[0;34m*\u001b[0m\u001b[0margs\u001b[0m\u001b[0;34m,\u001b[0m \u001b[0;34m**\u001b[0m\u001b[0mkwargs\u001b[0m\u001b[0;34m)\u001b[0m\u001b[0;34m\u001b[0m\u001b[0;34m\u001b[0m\u001b[0m\n",
       "\u001b[0;31mType:\u001b[0m            _ArrayFunctionDispatcher\n",
       "\u001b[0;31mString form:\u001b[0m     <function array_equal at 0x111f2f9c0>\n",
       "\u001b[0;31mFile:\u001b[0m            ~/miniforge3/envs/salvus_x86_2024.1.2/lib/python3.11/site-packages/numpy/core/numeric.py\n",
       "\u001b[0;31mDocstring:\u001b[0m      \n",
       "True if two arrays have the same shape and elements, False otherwise.\n",
       "\n",
       "Parameters\n",
       "----------\n",
       "a1, a2 : array_like\n",
       "    Input arrays.\n",
       "equal_nan : bool\n",
       "    Whether to compare NaN's as equal. If the dtype of a1 and a2 is\n",
       "    complex, values will be considered equal if either the real or the\n",
       "    imaginary component of a given value is ``nan``.\n",
       "\n",
       "    .. versionadded:: 1.19.0\n",
       "\n",
       "Returns\n",
       "-------\n",
       "b : bool\n",
       "    Returns True if the arrays are equal.\n",
       "\n",
       "See Also\n",
       "--------\n",
       "allclose: Returns True if two arrays are element-wise equal within a\n",
       "          tolerance.\n",
       "array_equiv: Returns True if input arrays are shape consistent and all\n",
       "             elements equal.\n",
       "\n",
       "Examples\n",
       "--------\n",
       ">>> np.array_equal([1, 2], [1, 2])\n",
       "True\n",
       ">>> np.array_equal(np.array([1, 2]), np.array([1, 2]))\n",
       "True\n",
       ">>> np.array_equal([1, 2], [1, 2, 3])\n",
       "False\n",
       ">>> np.array_equal([1, 2], [1, 4])\n",
       "False\n",
       ">>> a = np.array([1, np.nan])\n",
       ">>> np.array_equal(a, a)\n",
       "False\n",
       ">>> np.array_equal(a, a, equal_nan=True)\n",
       "True\n",
       "\n",
       "When ``equal_nan`` is True, complex values with nan components are\n",
       "considered equal if either the real *or* the imaginary components are nan.\n",
       "\n",
       ">>> a = np.array([1 + 1j])\n",
       ">>> b = a.copy()\n",
       ">>> a.real = np.nan\n",
       ">>> b.imag = np.nan\n",
       ">>> np.array_equal(a, b, equal_nan=True)\n",
       "True\n",
       "\u001b[0;31mClass docstring:\u001b[0m\n",
       "Class to wrap functions with checks for __array_function__ overrides.\n",
       "\n",
       "All arguments are required, and can only be passed by position.\n",
       "\n",
       "Parameters\n",
       "----------\n",
       "dispatcher : function or None\n",
       "    The dispatcher function that returns a single sequence-like object\n",
       "    of all arguments relevant.  It must have the same signature (except\n",
       "    the default values) as the actual implementation.\n",
       "    If ``None``, this is a ``like=`` dispatcher and the\n",
       "    ``_ArrayFunctionDispatcher`` must be called with ``like`` as the\n",
       "    first (additional and positional) argument.\n",
       "implementation : function\n",
       "    Function that implements the operation on NumPy arrays without\n",
       "    overrides.  Arguments passed calling the ``_ArrayFunctionDispatcher``\n",
       "    will be forwarded to this (and the ``dispatcher``) as if using\n",
       "    ``*args, **kwargs``.\n",
       "\n",
       "Attributes\n",
       "----------\n",
       "_implementation : function\n",
       "    The original implementation passed in."
      ]
     },
     "metadata": {},
     "output_type": "display_data"
    }
   ],
   "source": [
    "np.array_equal?"
   ]
  },
  {
   "cell_type": "code",
   "execution_count": null,
   "id": "1e240561-9f43-4f17-ba7d-c6a7e14a2edb",
   "metadata": {},
   "outputs": [],
   "source": []
  },
  {
   "cell_type": "code",
   "execution_count": null,
   "id": "a81131f3-c175-4db0-86af-384eddf628d2",
   "metadata": {},
   "outputs": [],
   "source": []
  },
  {
   "cell_type": "code",
   "execution_count": null,
   "id": "b3a68da3-f668-4530-b024-f2dbc1fd6ed5",
   "metadata": {},
   "outputs": [],
   "source": []
  },
  {
   "cell_type": "code",
   "execution_count": null,
   "id": "79a4a99d-a00a-4e40-a780-dbad936fca90",
   "metadata": {},
   "outputs": [],
   "source": []
  },
  {
   "cell_type": "code",
   "execution_count": null,
   "id": "6d65c8da-4c54-4476-891b-3c90c7f22dcf",
   "metadata": {},
   "outputs": [],
   "source": []
  }
 ],
 "metadata": {
  "kernelspec": {
   "display_name": "Python 3 (ipykernel)",
   "language": "python",
   "name": "python3"
  },
  "language_info": {
   "codemirror_mode": {
    "name": "ipython",
    "version": 3
   },
   "file_extension": ".py",
   "mimetype": "text/x-python",
   "name": "python",
   "nbconvert_exporter": "python",
   "pygments_lexer": "ipython3",
   "version": "3.11.11"
  }
 },
 "nbformat": 4,
 "nbformat_minor": 5
}
